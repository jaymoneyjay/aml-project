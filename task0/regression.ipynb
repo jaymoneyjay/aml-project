{
 "cells": [
  {
   "cell_type": "code",
   "execution_count": 1,
   "metadata": {},
   "outputs": [],
   "source": [
    "import pandas as pd\n",
    "from sklearn import model_selection, preprocessing, metrics, svm\n",
    "import statsmodels.api as sm\n",
    "from autofeat import AutoFeatRegressor, FeatureSelector\n",
    "import seaborn as sns\n",
    "import numpy as np"
   ]
  },
  {
   "cell_type": "markdown",
   "metadata": {},
   "source": [
    "# Read Data"
   ]
  },
  {
   "cell_type": "code",
   "execution_count": 2,
   "metadata": {
    "pycharm": {
     "name": "#%%\n"
    }
   },
   "outputs": [
    {
     "data": {
      "text/html": [
       "<div>\n",
       "<style scoped>\n",
       "    .dataframe tbody tr th:only-of-type {\n",
       "        vertical-align: middle;\n",
       "    }\n",
       "\n",
       "    .dataframe tbody tr th {\n",
       "        vertical-align: top;\n",
       "    }\n",
       "\n",
       "    .dataframe thead th {\n",
       "        text-align: right;\n",
       "    }\n",
       "</style>\n",
       "<table border=\"1\" class=\"dataframe\">\n",
       "  <thead>\n",
       "    <tr style=\"text-align: right;\">\n",
       "      <th></th>\n",
       "      <th>Id</th>\n",
       "      <th>y</th>\n",
       "      <th>x1</th>\n",
       "      <th>x2</th>\n",
       "      <th>x3</th>\n",
       "      <th>x4</th>\n",
       "      <th>x5</th>\n",
       "      <th>x6</th>\n",
       "      <th>x7</th>\n",
       "      <th>x8</th>\n",
       "      <th>x9</th>\n",
       "      <th>x10</th>\n",
       "    </tr>\n",
       "  </thead>\n",
       "  <tbody>\n",
       "    <tr>\n",
       "      <th>count</th>\n",
       "      <td>10000.00000</td>\n",
       "      <td>10000.000000</td>\n",
       "      <td>10000.000000</td>\n",
       "      <td>10000.000000</td>\n",
       "      <td>10000.000000</td>\n",
       "      <td>10000.000000</td>\n",
       "      <td>10000.000000</td>\n",
       "      <td>10000.000000</td>\n",
       "      <td>10000.000000</td>\n",
       "      <td>10000.000000</td>\n",
       "      <td>10000.000000</td>\n",
       "      <td>10000.000000</td>\n",
       "    </tr>\n",
       "    <tr>\n",
       "      <th>mean</th>\n",
       "      <td>4999.50000</td>\n",
       "      <td>1.576701</td>\n",
       "      <td>-11.299161</td>\n",
       "      <td>3.907769</td>\n",
       "      <td>0.450645</td>\n",
       "      <td>0.871660</td>\n",
       "      <td>-1.579386</td>\n",
       "      <td>-2.087579</td>\n",
       "      <td>1.917499</td>\n",
       "      <td>1.308422</td>\n",
       "      <td>4.861379</td>\n",
       "      <td>17.415757</td>\n",
       "    </tr>\n",
       "    <tr>\n",
       "      <th>std</th>\n",
       "      <td>2886.89568</td>\n",
       "      <td>310.616925</td>\n",
       "      <td>999.012531</td>\n",
       "      <td>1000.586380</td>\n",
       "      <td>1003.073868</td>\n",
       "      <td>999.249352</td>\n",
       "      <td>992.302193</td>\n",
       "      <td>997.872541</td>\n",
       "      <td>1011.010545</td>\n",
       "      <td>987.168706</td>\n",
       "      <td>991.729300</td>\n",
       "      <td>991.443805</td>\n",
       "    </tr>\n",
       "    <tr>\n",
       "      <th>min</th>\n",
       "      <td>0.00000</td>\n",
       "      <td>-1406.400147</td>\n",
       "      <td>-4659.952967</td>\n",
       "      <td>-3979.924822</td>\n",
       "      <td>-3740.100638</td>\n",
       "      <td>-3666.661811</td>\n",
       "      <td>-3532.991929</td>\n",
       "      <td>-3694.285292</td>\n",
       "      <td>-4852.117653</td>\n",
       "      <td>-3745.535589</td>\n",
       "      <td>-4446.632241</td>\n",
       "      <td>-3581.045869</td>\n",
       "    </tr>\n",
       "    <tr>\n",
       "      <th>25%</th>\n",
       "      <td>2499.75000</td>\n",
       "      <td>-207.214300</td>\n",
       "      <td>-691.133553</td>\n",
       "      <td>-664.978917</td>\n",
       "      <td>-684.337536</td>\n",
       "      <td>-678.238599</td>\n",
       "      <td>-667.807938</td>\n",
       "      <td>-679.852326</td>\n",
       "      <td>-681.952398</td>\n",
       "      <td>-646.896660</td>\n",
       "      <td>-666.371096</td>\n",
       "      <td>-628.837251</td>\n",
       "    </tr>\n",
       "    <tr>\n",
       "      <th>50%</th>\n",
       "      <td>4999.50000</td>\n",
       "      <td>5.252991</td>\n",
       "      <td>-13.957911</td>\n",
       "      <td>15.803377</td>\n",
       "      <td>-3.275047</td>\n",
       "      <td>0.500737</td>\n",
       "      <td>-1.850882</td>\n",
       "      <td>-6.014849</td>\n",
       "      <td>-13.882376</td>\n",
       "      <td>2.266320</td>\n",
       "      <td>13.982412</td>\n",
       "      <td>17.454569</td>\n",
       "    </tr>\n",
       "    <tr>\n",
       "      <th>75%</th>\n",
       "      <td>7499.25000</td>\n",
       "      <td>210.453130</td>\n",
       "      <td>657.367062</td>\n",
       "      <td>673.309887</td>\n",
       "      <td>677.438589</td>\n",
       "      <td>676.898037</td>\n",
       "      <td>660.881459</td>\n",
       "      <td>669.623894</td>\n",
       "      <td>692.497137</td>\n",
       "      <td>668.526779</td>\n",
       "      <td>672.569701</td>\n",
       "      <td>684.593863</td>\n",
       "    </tr>\n",
       "    <tr>\n",
       "      <th>max</th>\n",
       "      <td>9999.00000</td>\n",
       "      <td>1228.193658</td>\n",
       "      <td>3844.824744</td>\n",
       "      <td>3852.020172</td>\n",
       "      <td>4019.773551</td>\n",
       "      <td>4241.771913</td>\n",
       "      <td>3803.844039</td>\n",
       "      <td>3687.019024</td>\n",
       "      <td>3483.755269</td>\n",
       "      <td>3491.550364</td>\n",
       "      <td>3831.790162</td>\n",
       "      <td>3766.942168</td>\n",
       "    </tr>\n",
       "  </tbody>\n",
       "</table>\n",
       "</div>"
      ],
      "text/plain": [
       "                Id             y            x1            x2            x3  \\\n",
       "count  10000.00000  10000.000000  10000.000000  10000.000000  10000.000000   \n",
       "mean    4999.50000      1.576701    -11.299161      3.907769      0.450645   \n",
       "std     2886.89568    310.616925    999.012531   1000.586380   1003.073868   \n",
       "min        0.00000  -1406.400147  -4659.952967  -3979.924822  -3740.100638   \n",
       "25%     2499.75000   -207.214300   -691.133553   -664.978917   -684.337536   \n",
       "50%     4999.50000      5.252991    -13.957911     15.803377     -3.275047   \n",
       "75%     7499.25000    210.453130    657.367062    673.309887    677.438589   \n",
       "max     9999.00000   1228.193658   3844.824744   3852.020172   4019.773551   \n",
       "\n",
       "                 x4            x5            x6            x7            x8  \\\n",
       "count  10000.000000  10000.000000  10000.000000  10000.000000  10000.000000   \n",
       "mean       0.871660     -1.579386     -2.087579      1.917499      1.308422   \n",
       "std      999.249352    992.302193    997.872541   1011.010545    987.168706   \n",
       "min    -3666.661811  -3532.991929  -3694.285292  -4852.117653  -3745.535589   \n",
       "25%     -678.238599   -667.807938   -679.852326   -681.952398   -646.896660   \n",
       "50%        0.500737     -1.850882     -6.014849    -13.882376      2.266320   \n",
       "75%      676.898037    660.881459    669.623894    692.497137    668.526779   \n",
       "max     4241.771913   3803.844039   3687.019024   3483.755269   3491.550364   \n",
       "\n",
       "                 x9           x10  \n",
       "count  10000.000000  10000.000000  \n",
       "mean       4.861379     17.415757  \n",
       "std      991.729300    991.443805  \n",
       "min    -4446.632241  -3581.045869  \n",
       "25%     -666.371096   -628.837251  \n",
       "50%       13.982412     17.454569  \n",
       "75%      672.569701    684.593863  \n",
       "max     3831.790162   3766.942168  "
      ]
     },
     "execution_count": 2,
     "metadata": {},
     "output_type": "execute_result"
    }
   ],
   "source": [
    "df_train = pd.read_csv('data/train.csv')\n",
    "df_test = pd.read_csv('data/test.csv')\n",
    "df_train.describe()"
   ]
  },
  {
   "cell_type": "code",
   "execution_count": 19,
   "metadata": {},
   "outputs": [
    {
     "data": {
      "text/plain": [
       "(10720, 2680, numpy.float64)"
      ]
     },
     "execution_count": 19,
     "metadata": {},
     "output_type": "execute_result"
    }
   ],
   "source": [
    "df_train, df_val = model_selection.train_test_split(df_train, test_size=0.2)\n",
    "X_train = df_train.drop(columns=['y', 'Id'])\n",
    "y_train = df_train.y\n",
    "X_val = df_val.drop(columns=['y', 'Id'])\n",
    "y_val = df_val.y\n",
    "\n",
    "X_test = df_test.drop(columns=['Id'])\n",
    "X_train.size, X_val.size"
   ]
  },
  {
   "cell_type": "code",
   "execution_count": null,
   "metadata": {},
   "outputs": [],
   "source": []
  },
  {
   "cell_type": "markdown",
   "metadata": {},
   "source": [
    "# Data Scaling"
   ]
  },
  {
   "cell_type": "code",
   "execution_count": 4,
   "metadata": {},
   "outputs": [
    {
     "data": {
      "text/plain": [
       "MinMaxScaler(feature_range=(-1, 1))"
      ]
     },
     "execution_count": 4,
     "metadata": {},
     "output_type": "execute_result"
    }
   ],
   "source": [
    "scaler = preprocessing.MinMaxScaler(feature_range=(-1, 1))\n",
    "scaler.fit(X_train)\n",
    "#X_train = scaler.transform(X_train)\n",
    "#X_val = scaler.transform(X_val)\n",
    "#X_test = scaler.transform(X_test)"
   ]
  },
  {
   "cell_type": "markdown",
   "metadata": {},
   "source": [
    "# Fit regression"
   ]
  },
  {
   "cell_type": "code",
   "execution_count": 5,
   "metadata": {
    "pycharm": {
     "name": "#%%\n"
    }
   },
   "outputs": [],
   "source": [
    "models = {}\n",
    "\n",
    "# GLM\n",
    "#reg = sm.GLM(y_train, X_train, sm.families.Gaussian()).fit()\n",
    "#reg.summary()\n",
    "#models['glm'] = reg"
   ]
  },
  {
   "cell_type": "code",
   "execution_count": 6,
   "metadata": {},
   "outputs": [],
   "source": [
    "# SVM\n",
    "reg = svm.SVR()\n",
    "reg.fit(X_train, y_train)\n",
    "models['svm'] = reg"
   ]
  },
  {
   "cell_type": "code",
   "execution_count": 7,
   "metadata": {},
   "outputs": [
    {
     "name": "stderr",
     "output_type": "stream",
     "text": [
      "/Users/jodok/02 Code/spring21-JodokVieli/venv/lib/python3.8/site-packages/numpy/core/_methods.py:205: RuntimeWarning: overflow encountered in multiply\n",
      "  x = um.multiply(x, x, out=x)\n",
      "/Users/jodok/02 Code/spring21-JodokVieli/venv/lib/python3.8/site-packages/numpy/core/_methods.py:216: RuntimeWarning: overflow encountered in reduce\n",
      "  ret = umr_sum(x, axis, dtype, out, keepdims)\n",
      "/Users/jodok/02 Code/spring21-JodokVieli/venv/lib/python3.8/site-packages/numpy/lib/nanfunctions.py:1544: RuntimeWarning: overflow encountered in multiply\n",
      "  sqr = np.multiply(arr, arr, out=arr)\n"
     ]
    }
   ],
   "source": [
    "# autofeat\n",
    "reg = AutoFeatRegressor()\n",
    "df = reg.fit_transform(X_train, y_train)\n",
    "models['autofeat'] = reg"
   ]
  },
  {
   "cell_type": "code",
   "execution_count": 34,
   "metadata": {},
   "outputs": [
    {
     "name": "stdout",
     "output_type": "stream",
     "text": [
      "no need to fit data.\n"
     ]
    }
   ],
   "source": [
    "# mean\n",
    "class MeanModel:\n",
    "    def fit(self, x, y):\n",
    "        print(\"no need to fit data.\")\n",
    "    def predict(self, x):\n",
    "        return np.mean(x, axis=1)\n",
    "    \n",
    "model = MeanModel()\n",
    "model.fit(X_train, y_train)\n",
    "models['manual'] = model"
   ]
  },
  {
   "cell_type": "markdown",
   "metadata": {},
   "source": [
    "# Evaluate"
   ]
  },
  {
   "cell_type": "code",
   "execution_count": 35,
   "metadata": {},
   "outputs": [
    {
     "name": "stdout",
     "output_type": "stream",
     "text": [
      "svm: 160.5599239216804\n",
      "autofeat: 1.389255918575364e-13\n",
      "manual: 6.034996195686455e-14\n"
     ]
    }
   ],
   "source": [
    "for name, model in models.items():\n",
    "    y_pred = model.predict(X_val)\n",
    "    rmse = metrics.mean_squared_error(y_val, y_pred)**0.5\n",
    "    print(f'{name}: {rmse}')"
   ]
  },
  {
   "cell_type": "markdown",
   "metadata": {},
   "source": [
    "# Predict"
   ]
  },
  {
   "cell_type": "code",
   "execution_count": 33,
   "metadata": {},
   "outputs": [],
   "source": [
    "reg = models['manual']\n",
    "y_res = reg.predict(X_test)\n",
    "df_res = pd.DataFrame({'Id': df_test.Id, 'y': y_res})\n",
    "df_res.to_csv('results.csv', header=True, index=False)"
   ]
  },
  {
   "cell_type": "code",
   "execution_count": null,
   "metadata": {},
   "outputs": [],
   "source": []
  }
 ],
 "metadata": {
  "kernelspec": {
   "display_name": "Python (spring21JodokVieli)",
   "language": "python",
   "name": "spring21jodokvieli"
  },
  "language_info": {
   "codemirror_mode": {
    "name": "ipython",
    "version": 3
   },
   "file_extension": ".py",
   "mimetype": "text/x-python",
   "name": "python",
   "nbconvert_exporter": "python",
   "pygments_lexer": "ipython3",
   "version": "3.8.0"
  }
 },
 "nbformat": 4,
 "nbformat_minor": 1
}
