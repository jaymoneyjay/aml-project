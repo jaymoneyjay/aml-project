{
 "cells": [
  {
   "cell_type": "markdown",
   "id": "395f8595",
   "metadata": {},
   "source": [
    "# Create Pipeline in combo w/ GridsearchCV"
   ]
  },
  {
   "cell_type": "markdown",
   "id": "75f69fc4",
   "metadata": {},
   "source": [
    "## Install packages on machine\n",
    "uncomment to install on machine"
   ]
  },
  {
   "cell_type": "code",
   "execution_count": 1,
   "id": "931eef9e",
   "metadata": {},
   "outputs": [],
   "source": [
    "# import sys\n",
    "#!{sys.executable} -m pip install numpy\n",
    "#!{sys.executable} -m pip install pandas\n",
    "#!{sys.executable} -m pip install scikit-learn\n",
    "#!{sys.executable} -m pip install xgboost\n",
    "#!{sys.executable} -m pip install lightgbm\n",
    "#!{sys.executable} -m pip install imbalanced-learn"
   ]
  },
  {
   "cell_type": "code",
   "execution_count": 3,
   "id": "e3f758e6",
   "metadata": {},
   "outputs": [],
   "source": [
    "import pandas as pd\n",
    "import numpy as np\n",
    "from imblearn.pipeline import Pipeline\n",
    "from imblearn import FunctionSampler\n",
    "from sklearn.model_selection import train_test_split\n",
    "from sklearn.datasets import make_regression\n",
    "from sklearn.pipeline import FeatureUnion\n",
    "from sklearn.decomposition import PCA, KernelPCA, SparsePCA\n",
    "from sklearn.cluster import FeatureAgglomeration\n",
    "from sklearn.neighbors import LocalOutlierFactor, KNeighborsClassifier\n",
    "from sklearn.preprocessing import StandardScaler, RobustScaler, PowerTransformer, QuantileTransformer\n",
    "from sklearn.experimental import enable_iterative_imputer  # noqa\n",
    "from sklearn.impute import SimpleImputer, KNNImputer, MissingIndicator, IterativeImputer\n",
    "from sklearn.feature_selection import VarianceThreshold, SelectKBest, mutual_info_regression, \\\n",
    "                                      f_regression, SelectFromModel, GenericUnivariateSelect, \\\n",
    "                                      SequentialFeatureSelector\n",
    "from sklearn.svm import SVR\n",
    "from sklearn.ensemble import IsolationForest, RandomForestRegressor\n",
    "from sklearn.svm import LinearSVC\n",
    "from sklearn.linear_model import LinearRegression, LogisticRegression, HuberRegressor, \\\n",
    "                                 RANSACRegressor, BayesianRidge\n",
    "import xgboost as xgb\n",
    "import lightgbm as lgb\n",
    "from sklearn.metrics import r2_score\n",
    "\n",
    "from sklearn.model_selection import cross_val_score, cross_val_predict, GridSearchCV, RandomizedSearchCV\n",
    "\n",
    "pd.options.display.float_format = '{:.2f}'.format\n",
    "pd.set_option('display.max_rows', 500) "
   ]
  },
  {
   "cell_type": "code",
   "execution_count": 4,
   "id": "7d984419",
   "metadata": {},
   "outputs": [],
   "source": [
    "path = ''"
   ]
  },
  {
   "cell_type": "code",
   "execution_count": 5,
   "id": "e0576e0a",
   "metadata": {},
   "outputs": [],
   "source": [
    "df_train = pd.read_csv(path+'X_train.csv')\n",
    "df_test = pd.read_csv(path+'X_test.csv')\n",
    "df_y = pd.read_csv(path+'y_train.csv')"
   ]
  },
  {
   "cell_type": "code",
   "execution_count": 6,
   "id": "ab6f16c5",
   "metadata": {},
   "outputs": [
    {
     "data": {
      "text/html": [
       "<div>\n",
       "<style scoped>\n",
       "    .dataframe tbody tr th:only-of-type {\n",
       "        vertical-align: middle;\n",
       "    }\n",
       "\n",
       "    .dataframe tbody tr th {\n",
       "        vertical-align: top;\n",
       "    }\n",
       "\n",
       "    .dataframe thead th {\n",
       "        text-align: right;\n",
       "    }\n",
       "</style>\n",
       "<table border=\"1\" class=\"dataframe\">\n",
       "  <thead>\n",
       "    <tr style=\"text-align: right;\">\n",
       "      <th></th>\n",
       "      <th>id</th>\n",
       "      <th>x0</th>\n",
       "      <th>x1</th>\n",
       "      <th>x2</th>\n",
       "      <th>x3</th>\n",
       "      <th>x4</th>\n",
       "      <th>x5</th>\n",
       "      <th>x6</th>\n",
       "      <th>x7</th>\n",
       "      <th>x8</th>\n",
       "      <th>...</th>\n",
       "      <th>x822</th>\n",
       "      <th>x823</th>\n",
       "      <th>x824</th>\n",
       "      <th>x825</th>\n",
       "      <th>x826</th>\n",
       "      <th>x827</th>\n",
       "      <th>x828</th>\n",
       "      <th>x829</th>\n",
       "      <th>x830</th>\n",
       "      <th>x831</th>\n",
       "    </tr>\n",
       "  </thead>\n",
       "  <tbody>\n",
       "    <tr>\n",
       "      <th>0</th>\n",
       "      <td>0.00</td>\n",
       "      <td>10.89</td>\n",
       "      <td>832442.81</td>\n",
       "      <td>20585.54</td>\n",
       "      <td>1028.37</td>\n",
       "      <td>1163779.65</td>\n",
       "      <td>9.20</td>\n",
       "      <td>597900.48</td>\n",
       "      <td>NaN</td>\n",
       "      <td>1144294.32</td>\n",
       "      <td>...</td>\n",
       "      <td>1024198.18</td>\n",
       "      <td>-855.55</td>\n",
       "      <td>12176.07</td>\n",
       "      <td>10.65</td>\n",
       "      <td>10.92</td>\n",
       "      <td>1220.07</td>\n",
       "      <td>8.57</td>\n",
       "      <td>1036263.30</td>\n",
       "      <td>85338.56</td>\n",
       "      <td>103088.66</td>\n",
       "    </tr>\n",
       "    <tr>\n",
       "      <th>1</th>\n",
       "      <td>1.00</td>\n",
       "      <td>11.51</td>\n",
       "      <td>832442.90</td>\n",
       "      <td>NaN</td>\n",
       "      <td>1012.62</td>\n",
       "      <td>1028910.54</td>\n",
       "      <td>10.91</td>\n",
       "      <td>597900.46</td>\n",
       "      <td>8127.02</td>\n",
       "      <td>1099166.21</td>\n",
       "      <td>...</td>\n",
       "      <td>1086805.85</td>\n",
       "      <td>-787.40</td>\n",
       "      <td>10493.10</td>\n",
       "      <td>10.59</td>\n",
       "      <td>9.46</td>\n",
       "      <td>917.09</td>\n",
       "      <td>10.23</td>\n",
       "      <td>1007163.22</td>\n",
       "      <td>95695.02</td>\n",
       "      <td>105161.11</td>\n",
       "    </tr>\n",
       "    <tr>\n",
       "      <th>2</th>\n",
       "      <td>2.00</td>\n",
       "      <td>11.05</td>\n",
       "      <td>832442.90</td>\n",
       "      <td>20585.51</td>\n",
       "      <td>1003.95</td>\n",
       "      <td>923175.65</td>\n",
       "      <td>9.21</td>\n",
       "      <td>597900.43</td>\n",
       "      <td>10738.09</td>\n",
       "      <td>1027862.70</td>\n",
       "      <td>...</td>\n",
       "      <td>1018532.66</td>\n",
       "      <td>-907.00</td>\n",
       "      <td>10959.52</td>\n",
       "      <td>10.77</td>\n",
       "      <td>10.34</td>\n",
       "      <td>637.03</td>\n",
       "      <td>10.71</td>\n",
       "      <td>1019955.44</td>\n",
       "      <td>80253.30</td>\n",
       "      <td>104177.05</td>\n",
       "    </tr>\n",
       "    <tr>\n",
       "      <th>3</th>\n",
       "      <td>3.00</td>\n",
       "      <td>11.64</td>\n",
       "      <td>NaN</td>\n",
       "      <td>NaN</td>\n",
       "      <td>1004.67</td>\n",
       "      <td>945946.09</td>\n",
       "      <td>9.55</td>\n",
       "      <td>597900.45</td>\n",
       "      <td>13524.10</td>\n",
       "      <td>1168144.27</td>\n",
       "      <td>...</td>\n",
       "      <td>1047017.25</td>\n",
       "      <td>-1011.74</td>\n",
       "      <td>16845.31</td>\n",
       "      <td>10.48</td>\n",
       "      <td>10.59</td>\n",
       "      <td>1114.07</td>\n",
       "      <td>10.32</td>\n",
       "      <td>1085441.78</td>\n",
       "      <td>NaN</td>\n",
       "      <td>102746.52</td>\n",
       "    </tr>\n",
       "    <tr>\n",
       "      <th>4</th>\n",
       "      <td>4.00</td>\n",
       "      <td>10.41</td>\n",
       "      <td>832442.83</td>\n",
       "      <td>20585.56</td>\n",
       "      <td>NaN</td>\n",
       "      <td>995718.19</td>\n",
       "      <td>8.42</td>\n",
       "      <td>597900.42</td>\n",
       "      <td>12894.07</td>\n",
       "      <td>1063198.89</td>\n",
       "      <td>...</td>\n",
       "      <td>1031009.46</td>\n",
       "      <td>-1025.22</td>\n",
       "      <td>18348.46</td>\n",
       "      <td>NaN</td>\n",
       "      <td>NaN</td>\n",
       "      <td>1230.09</td>\n",
       "      <td>10.25</td>\n",
       "      <td>1024812.19</td>\n",
       "      <td>101815.75</td>\n",
       "      <td>105163.75</td>\n",
       "    </tr>\n",
       "  </tbody>\n",
       "</table>\n",
       "<p>5 rows × 833 columns</p>\n",
       "</div>"
      ],
      "text/plain": [
       "    id    x0        x1       x2      x3         x4    x5        x6       x7  \\\n",
       "0 0.00 10.89 832442.81 20585.54 1028.37 1163779.65  9.20 597900.48      NaN   \n",
       "1 1.00 11.51 832442.90      NaN 1012.62 1028910.54 10.91 597900.46  8127.02   \n",
       "2 2.00 11.05 832442.90 20585.51 1003.95  923175.65  9.21 597900.43 10738.09   \n",
       "3 3.00 11.64       NaN      NaN 1004.67  945946.09  9.55 597900.45 13524.10   \n",
       "4 4.00 10.41 832442.83 20585.56     NaN  995718.19  8.42 597900.42 12894.07   \n",
       "\n",
       "          x8  ...       x822     x823     x824  x825  x826    x827  x828  \\\n",
       "0 1144294.32  ... 1024198.18  -855.55 12176.07 10.65 10.92 1220.07  8.57   \n",
       "1 1099166.21  ... 1086805.85  -787.40 10493.10 10.59  9.46  917.09 10.23   \n",
       "2 1027862.70  ... 1018532.66  -907.00 10959.52 10.77 10.34  637.03 10.71   \n",
       "3 1168144.27  ... 1047017.25 -1011.74 16845.31 10.48 10.59 1114.07 10.32   \n",
       "4 1063198.89  ... 1031009.46 -1025.22 18348.46   NaN   NaN 1230.09 10.25   \n",
       "\n",
       "        x829      x830      x831  \n",
       "0 1036263.30  85338.56 103088.66  \n",
       "1 1007163.22  95695.02 105161.11  \n",
       "2 1019955.44  80253.30 104177.05  \n",
       "3 1085441.78       NaN 102746.52  \n",
       "4 1024812.19 101815.75 105163.75  \n",
       "\n",
       "[5 rows x 833 columns]"
      ]
     },
     "execution_count": 6,
     "metadata": {},
     "output_type": "execute_result"
    }
   ],
   "source": [
    "df_train.head()"
   ]
  },
  {
   "cell_type": "markdown",
   "id": "c1151996",
   "metadata": {},
   "source": [
    "## Parameters"
   ]
  },
  {
   "cell_type": "code",
   "execution_count": 7,
   "id": "82ee9a04",
   "metadata": {},
   "outputs": [],
   "source": [
    "scoring = 'r2'\n",
    "cv = 5\n",
    "n_jobs = -1 # if not 1 gridsearch does not print verbose output/progress\n",
    "refit = True"
   ]
  },
  {
   "cell_type": "markdown",
   "id": "516cf844",
   "metadata": {},
   "source": [
    "## Helper functions for outlier detection wrapper"
   ]
  },
  {
   "cell_type": "code",
   "execution_count": 8,
   "id": "41f8bed4",
   "metadata": {},
   "outputs": [],
   "source": [
    "def outlier_rejection_isolationforest(X, y):\n",
    "    \"\"\"This will be our function used to resample our dataset.\"\"\"\n",
    "    model = IsolationForest(max_samples=100, contamination=0.4)\n",
    "    model.fit(X)\n",
    "    y_pred = model.predict(X)\n",
    "    return X[y_pred == 1], y[y_pred == 1]\n",
    "\n",
    "def outlier_rejection_LOF(X, y):\n",
    "    \"\"\"This will be our function used to resample our dataset.\"\"\"\n",
    "    model = LocalOutlierFactor(n_neighbors=80, contamination=0.4, n_jobs=-1)\n",
    "    model.fit(X)\n",
    "    y_pred = model.predict(X)\n",
    "    return X[y_pred == 1], y[y_pred == 1]"
   ]
  },
  {
   "cell_type": "code",
   "execution_count": 17,
   "id": "ac578b76",
   "metadata": {},
   "outputs": [],
   "source": [
    "search_space = [ \n",
    "\n",
    "    ## commented out means \"is running on vastai\"\n",
    "\n",
    "    ### trees regressors\n",
    "    #{'scaler': [RobustScaler(), QuantileTransformer()],\n",
    "    # 'imputer': [KNNImputer()],\n",
    "    # 'imputer__n_neighbors': [20, 300],\n",
    "    # 'imputer__weights': ['distance', 'uniform'],\n",
    "    # 'variance': [VarianceThreshold()],\n",
    "    # 'selector': [SelectKBest()],\n",
    "    # 'selector__k': [100, 200, 400],\n",
    "    # #'selector__score_func': [mutual_info_regression, f_regression],\n",
    "    # 'dimreduction': [SparsePCA(n_jobs=-1)],# KernelPCA(n_jobs=-1)],\n",
    "    # 'dimreduction__n_components': [0.95, 0.85, 200],\n",
    "    # 'outliers': [FunctionSampler(func=outlier_rejection_isolationforest, validate=False),\n",
    "    #              FunctionSampler(func=outlier_rejection_LOF, validate=False)],\n",
    "    # 'regressor': [lgb.LGBMRegressor(), xgb.XGBRegressor(), RandomForestRegressor()],\n",
    "    # #'regressor__boosting_type': ['gbdt', 'lgbm'],\n",
    "    # 'regressor__n_estimators': [100, 500],\n",
    "    # #'regressor__num_leaves': [2, 31, 50, 100],\n",
    "    # #'regressor__min_samples_leaf': [1, 5, 10],\n",
    "    # #'regressor__subsample': [0.7, 1], # only sample fraction of training data before growing trees -> avoid overfitting\n",
    "    # #'regressor__max_depth ': [-1, 10, 50], # It is necessary to tune num_leaves with the max_depth together.\n",
    "    # #'regressor__reg_alpha': [0, 1e-2, 10],\n",
    "    # #'regressor__reg_lambda': [0, 1e-2, 10],\n",
    "    #},\n",
    " \n",
    "    ### non trees regressors\n",
    "    #{'scaler': [RobustScaler(), QuantileTransformer()],\n",
    "    # 'imputer': [KNNImputer()],\n",
    "    # 'imputer__n_neighbors': [20, 100, 300],\n",
    "    # #'imputer__weights': ['distance', 'uniform'],\n",
    "    # 'variance': [VarianceThreshold()],\n",
    "    # 'selector': [SelectKBest()],\n",
    "    # 'selector__k': [100, 200, 400],\n",
    "    # 'selector__score_func': [mutual_info_regression, f_regression],\n",
    "    # 'dimreduction': [SparsePCA(n_jobs=-1)],# KernelPCA(n_jobs=-1)],\n",
    "    # 'dimreduction__n_components': [0.95, 0.85, 200],\n",
    "    # 'outliers': [FunctionSampler(func=outlier_rejection_isolationforest, validate=False),\n",
    "    #              FunctionSampler(func=outlier_rejection_LOF, validate=False)],\n",
    "    # 'regressor': [HuberRegressor(), RANSACRegressor(), BayesianRidge()],\n",
    "    # #'regressor__boosting_type': ['gbdt', 'lgbm'],\n",
    "    #},\n",
    "\n",
    "    ## kNN imputer - SVR regressor\n",
    "    #{'scaler': [RobustScaler(), QuantileTransformer()],\n",
    "    # 'imputer': [KNNImputer()],\n",
    "    # 'imputer__n_neighbors': [20, 100, 300],\n",
    "    # 'imputer__weights': ['distance', 'uniform'],\n",
    "    # 'variance': [VarianceThreshold()],\n",
    "    # 'selector': [GenericUnivariateSelect(score_func=f_regression, mode='k_best', param=200)],\n",
    "    # 'dimreduction': [SparsePCA(n_jobs=-1), KernelPCA(n_jobs=-1)],\n",
    "    # 'dimreduction__n_components': [0.95, 0.85, 200, None],\n",
    "    # 'outliers': [FunctionSampler(func=outlier_rejection_isolationforest, validate=False),\n",
    "    #              FunctionSampler(func=outlier_rejection_LOF, validate=False)],\n",
    "    # 'regressor': [SVR()],\n",
    "    # 'regressor__C': [1e-4, 1, 200],\n",
    "    # 'regressor__epsilon': [1e-4, 1, 10],\n",
    "    #},\n",
    "    \n",
    "    # run local\n",
    "    ## Forward selection\n",
    "    {'scaler': [RobustScaler(), QuantileTransformer()],\n",
    "     'imputer': [KNNImputer()],\n",
    "     'imputer__n_neighbors': [80, 200],\n",
    "     'dimreduction': [KernelPCA(n_jobs=-1)],\n",
    "     'dimreduction__n_components': [0.95, 0.85, 200, None],\n",
    "     'selector': [SequentialFeatureSelector(estimator=KNeighborsClassifier(n_neighbors=3), \\\n",
    "                                           direction='forward', n_jobs=-1)],\n",
    "     'selector__n_features_to_select': [50, 100, 200],\n",
    "     'outliers': [FunctionSampler(func=outlier_rejection_isolationforest, validate=False),\n",
    "                  FunctionSampler(func=outlier_rejection_LOF, validate=False)],\n",
    "     'regressor': [RandomForestRegressor(n_estimators=600)],\n",
    "    },\n",
    "    # run local\n",
    "    ## Select from Model\n",
    "    {'scaler': [RobustScaler(), QuantileTransformer()],\n",
    "    'imputer': [KNNImputer()],\n",
    "    'imputer__n_neighbors': [80, 200],\n",
    "    'variance': [VarianceThreshold()],\n",
    "    'dimreduction': [KernelPCA(n_jobs=-1)],\n",
    "    'dimreduction__n_components': [0.95, 0.85, 200, None],\n",
    "    'selector': [\n",
    "      SelectFromModel(estimator=LogisticRegression()),\n",
    "      SelectFromModel(estimator=LinearSVC(penalty=\"l1\"))],\n",
    "    'outliers': [FunctionSampler(func=outlier_rejection_isolationforest, validate=False),\n",
    "              FunctionSampler(func=outlier_rejection_LOF, validate=False)],\n",
    "    'regressor': [RandomForestRegressor(n_estimators=600)]\n",
    "    }\n",
    "]"
   ]
  },
  {
   "cell_type": "markdown",
   "id": "affc47e7",
   "metadata": {},
   "source": [
    "## Design Pipeline"
   ]
  },
  {
   "cell_type": "code",
   "execution_count": 18,
   "id": "25ad72c1",
   "metadata": {},
   "outputs": [],
   "source": [
    "pipeline_outliers_last = Pipeline([\n",
    "    ('scaler', RobustScaler()),\n",
    "    ('imputer', KNNImputer()),\n",
    "    ('variance', None),\n",
    "    ('selector', SelectKBest()),\n",
    "    ('dimreduction', None),\n",
    "    ('outliers', None),\n",
    "    ('regressor', xgb.XGBRegressor()),\n",
    "])"
   ]
  },
  {
   "cell_type": "code",
   "execution_count": 19,
   "id": "e6a7670a",
   "metadata": {},
   "outputs": [],
   "source": [
    "pipeline_outliers_first = Pipeline([\n",
    "    ('scaler', RobustScaler()),\n",
    "    ('imputer', KNNImputer()),\n",
    "    ('outliers', None),\n",
    "    ('selector', SelectKBest()),\n",
    "    ('dimreduction', None),\n",
    "    ('regressor', xgb.XGBRegressor()),\n",
    "])"
   ]
  },
  {
   "cell_type": "code",
   "execution_count": 20,
   "id": "6dc7fd50",
   "metadata": {},
   "outputs": [],
   "source": [
    "#for later\n",
    "pipeline_scale_twice = Pipeline([\n",
    "    ('scaler_1', RobustScaler()),\n",
    "    ('imputer', KNNImputer()),\n",
    "    ('selector', SelectKBest()),\n",
    "    ('dimreduction', 'passthrough'),\n",
    "    ('scaler_2', RobustScaler()),\n",
    "    ('outliers', None),\n",
    "    ('regressor', xgb.XGBRegressor()),    \n",
    "]) \n",
    "# can set passthrough in Pipeline but not param space"
   ]
  },
  {
   "cell_type": "code",
   "execution_count": 21,
   "id": "df65983a",
   "metadata": {},
   "outputs": [],
   "source": [
    "grid_outliers_last = GridSearchCV(estimator=pipeline_outliers_last, param_grid=search_space, cv=cv, verbose=10,\n",
    "                    n_jobs=n_jobs, scoring=scoring, return_train_score=False, refit=refit)"
   ]
  },
  {
   "cell_type": "code",
   "execution_count": 22,
   "id": "af07d51b",
   "metadata": {},
   "outputs": [],
   "source": [
    "grid_outliers_first = GridSearchCV(estimator=pipeline_outliers_first, param_grid=search_space, cv=cv, verbose=10,\n",
    "                    n_jobs=n_jobs, scoring=scoring, return_train_score=False, refit=refit)"
   ]
  },
  {
   "cell_type": "code",
   "execution_count": 23,
   "id": "9d55adcb",
   "metadata": {},
   "outputs": [],
   "source": [
    "X_train = df_train.drop('id', axis=1)\n",
    "y_train = df_y.drop('id', axis=1).values.ravel()"
   ]
  },
  {
   "cell_type": "code",
   "execution_count": 24,
   "id": "999db38d",
   "metadata": {},
   "outputs": [
    {
     "name": "stdout",
     "output_type": "stream",
     "text": [
      "Fitting 5 folds for each of 160 candidates, totalling 800 fits\n"
     ]
    },
    {
     "ename": "KeyboardInterrupt",
     "evalue": "",
     "output_type": "error",
     "traceback": [
      "\u001b[0;31m---------------------------------------------------------------------------\u001b[0m",
      "\u001b[0;31mKeyboardInterrupt\u001b[0m                         Traceback (most recent call last)",
      "\u001b[0;32m/tmp/ipykernel_580/3918969244.py\u001b[0m in \u001b[0;36m<module>\u001b[0;34m\u001b[0m\n\u001b[0;32m----> 1\u001b[0;31m \u001b[0mgrid_outliers_last\u001b[0m\u001b[0;34m.\u001b[0m\u001b[0mfit\u001b[0m\u001b[0;34m(\u001b[0m\u001b[0mX_train\u001b[0m\u001b[0;34m,\u001b[0m \u001b[0my_train\u001b[0m\u001b[0;34m)\u001b[0m\u001b[0;34m\u001b[0m\u001b[0;34m\u001b[0m\u001b[0m\n\u001b[0m",
      "\u001b[0;32m~/.virtualenvs/vethaml/lib/python3.8/site-packages/sklearn/model_selection/_search.py\u001b[0m in \u001b[0;36mfit\u001b[0;34m(self, X, y, groups, **fit_params)\u001b[0m\n\u001b[1;32m    889\u001b[0m                 \u001b[0;32mreturn\u001b[0m \u001b[0mresults\u001b[0m\u001b[0;34m\u001b[0m\u001b[0;34m\u001b[0m\u001b[0m\n\u001b[1;32m    890\u001b[0m \u001b[0;34m\u001b[0m\u001b[0m\n\u001b[0;32m--> 891\u001b[0;31m             \u001b[0mself\u001b[0m\u001b[0;34m.\u001b[0m\u001b[0m_run_search\u001b[0m\u001b[0;34m(\u001b[0m\u001b[0mevaluate_candidates\u001b[0m\u001b[0;34m)\u001b[0m\u001b[0;34m\u001b[0m\u001b[0;34m\u001b[0m\u001b[0m\n\u001b[0m\u001b[1;32m    892\u001b[0m \u001b[0;34m\u001b[0m\u001b[0m\n\u001b[1;32m    893\u001b[0m             \u001b[0;31m# multimetric is determined here because in the case of a callable\u001b[0m\u001b[0;34m\u001b[0m\u001b[0;34m\u001b[0m\u001b[0;34m\u001b[0m\u001b[0m\n",
      "\u001b[0;32m~/.virtualenvs/vethaml/lib/python3.8/site-packages/sklearn/model_selection/_search.py\u001b[0m in \u001b[0;36m_run_search\u001b[0;34m(self, evaluate_candidates)\u001b[0m\n\u001b[1;32m   1390\u001b[0m     \u001b[0;32mdef\u001b[0m \u001b[0m_run_search\u001b[0m\u001b[0;34m(\u001b[0m\u001b[0mself\u001b[0m\u001b[0;34m,\u001b[0m \u001b[0mevaluate_candidates\u001b[0m\u001b[0;34m)\u001b[0m\u001b[0;34m:\u001b[0m\u001b[0;34m\u001b[0m\u001b[0;34m\u001b[0m\u001b[0m\n\u001b[1;32m   1391\u001b[0m         \u001b[0;34m\"\"\"Search all candidates in param_grid\"\"\"\u001b[0m\u001b[0;34m\u001b[0m\u001b[0;34m\u001b[0m\u001b[0m\n\u001b[0;32m-> 1392\u001b[0;31m         \u001b[0mevaluate_candidates\u001b[0m\u001b[0;34m(\u001b[0m\u001b[0mParameterGrid\u001b[0m\u001b[0;34m(\u001b[0m\u001b[0mself\u001b[0m\u001b[0;34m.\u001b[0m\u001b[0mparam_grid\u001b[0m\u001b[0;34m)\u001b[0m\u001b[0;34m)\u001b[0m\u001b[0;34m\u001b[0m\u001b[0;34m\u001b[0m\u001b[0m\n\u001b[0m\u001b[1;32m   1393\u001b[0m \u001b[0;34m\u001b[0m\u001b[0m\n\u001b[1;32m   1394\u001b[0m \u001b[0;34m\u001b[0m\u001b[0m\n",
      "\u001b[0;32m~/.virtualenvs/vethaml/lib/python3.8/site-packages/sklearn/model_selection/_search.py\u001b[0m in \u001b[0;36mevaluate_candidates\u001b[0;34m(candidate_params, cv, more_results)\u001b[0m\n\u001b[1;32m    836\u001b[0m                     )\n\u001b[1;32m    837\u001b[0m \u001b[0;34m\u001b[0m\u001b[0m\n\u001b[0;32m--> 838\u001b[0;31m                 out = parallel(\n\u001b[0m\u001b[1;32m    839\u001b[0m                     delayed(_fit_and_score)(\n\u001b[1;32m    840\u001b[0m                         \u001b[0mclone\u001b[0m\u001b[0;34m(\u001b[0m\u001b[0mbase_estimator\u001b[0m\u001b[0;34m)\u001b[0m\u001b[0;34m,\u001b[0m\u001b[0;34m\u001b[0m\u001b[0;34m\u001b[0m\u001b[0m\n",
      "\u001b[0;32m~/.virtualenvs/vethaml/lib/python3.8/site-packages/joblib/parallel.py\u001b[0m in \u001b[0;36m__call__\u001b[0;34m(self, iterable)\u001b[0m\n\u001b[1;32m   1054\u001b[0m \u001b[0;34m\u001b[0m\u001b[0m\n\u001b[1;32m   1055\u001b[0m             \u001b[0;32mwith\u001b[0m \u001b[0mself\u001b[0m\u001b[0;34m.\u001b[0m\u001b[0m_backend\u001b[0m\u001b[0;34m.\u001b[0m\u001b[0mretrieval_context\u001b[0m\u001b[0;34m(\u001b[0m\u001b[0;34m)\u001b[0m\u001b[0;34m:\u001b[0m\u001b[0;34m\u001b[0m\u001b[0;34m\u001b[0m\u001b[0m\n\u001b[0;32m-> 1056\u001b[0;31m                 \u001b[0mself\u001b[0m\u001b[0;34m.\u001b[0m\u001b[0mretrieve\u001b[0m\u001b[0;34m(\u001b[0m\u001b[0;34m)\u001b[0m\u001b[0;34m\u001b[0m\u001b[0;34m\u001b[0m\u001b[0m\n\u001b[0m\u001b[1;32m   1057\u001b[0m             \u001b[0;31m# Make sure that we get a last message telling us we are done\u001b[0m\u001b[0;34m\u001b[0m\u001b[0;34m\u001b[0m\u001b[0;34m\u001b[0m\u001b[0m\n\u001b[1;32m   1058\u001b[0m             \u001b[0melapsed_time\u001b[0m \u001b[0;34m=\u001b[0m \u001b[0mtime\u001b[0m\u001b[0;34m.\u001b[0m\u001b[0mtime\u001b[0m\u001b[0;34m(\u001b[0m\u001b[0;34m)\u001b[0m \u001b[0;34m-\u001b[0m \u001b[0mself\u001b[0m\u001b[0;34m.\u001b[0m\u001b[0m_start_time\u001b[0m\u001b[0;34m\u001b[0m\u001b[0;34m\u001b[0m\u001b[0m\n",
      "\u001b[0;32m~/.virtualenvs/vethaml/lib/python3.8/site-packages/joblib/parallel.py\u001b[0m in \u001b[0;36mretrieve\u001b[0;34m(self)\u001b[0m\n\u001b[1;32m    933\u001b[0m             \u001b[0;32mtry\u001b[0m\u001b[0;34m:\u001b[0m\u001b[0;34m\u001b[0m\u001b[0;34m\u001b[0m\u001b[0m\n\u001b[1;32m    934\u001b[0m                 \u001b[0;32mif\u001b[0m \u001b[0mgetattr\u001b[0m\u001b[0;34m(\u001b[0m\u001b[0mself\u001b[0m\u001b[0;34m.\u001b[0m\u001b[0m_backend\u001b[0m\u001b[0;34m,\u001b[0m \u001b[0;34m'supports_timeout'\u001b[0m\u001b[0;34m,\u001b[0m \u001b[0;32mFalse\u001b[0m\u001b[0;34m)\u001b[0m\u001b[0;34m:\u001b[0m\u001b[0;34m\u001b[0m\u001b[0;34m\u001b[0m\u001b[0m\n\u001b[0;32m--> 935\u001b[0;31m                     \u001b[0mself\u001b[0m\u001b[0;34m.\u001b[0m\u001b[0m_output\u001b[0m\u001b[0;34m.\u001b[0m\u001b[0mextend\u001b[0m\u001b[0;34m(\u001b[0m\u001b[0mjob\u001b[0m\u001b[0;34m.\u001b[0m\u001b[0mget\u001b[0m\u001b[0;34m(\u001b[0m\u001b[0mtimeout\u001b[0m\u001b[0;34m=\u001b[0m\u001b[0mself\u001b[0m\u001b[0;34m.\u001b[0m\u001b[0mtimeout\u001b[0m\u001b[0;34m)\u001b[0m\u001b[0;34m)\u001b[0m\u001b[0;34m\u001b[0m\u001b[0;34m\u001b[0m\u001b[0m\n\u001b[0m\u001b[1;32m    936\u001b[0m                 \u001b[0;32melse\u001b[0m\u001b[0;34m:\u001b[0m\u001b[0;34m\u001b[0m\u001b[0;34m\u001b[0m\u001b[0m\n\u001b[1;32m    937\u001b[0m                     \u001b[0mself\u001b[0m\u001b[0;34m.\u001b[0m\u001b[0m_output\u001b[0m\u001b[0;34m.\u001b[0m\u001b[0mextend\u001b[0m\u001b[0;34m(\u001b[0m\u001b[0mjob\u001b[0m\u001b[0;34m.\u001b[0m\u001b[0mget\u001b[0m\u001b[0;34m(\u001b[0m\u001b[0;34m)\u001b[0m\u001b[0;34m)\u001b[0m\u001b[0;34m\u001b[0m\u001b[0;34m\u001b[0m\u001b[0m\n",
      "\u001b[0;32m~/.virtualenvs/vethaml/lib/python3.8/site-packages/joblib/_parallel_backends.py\u001b[0m in \u001b[0;36mwrap_future_result\u001b[0;34m(future, timeout)\u001b[0m\n\u001b[1;32m    540\u001b[0m         AsyncResults.get from multiprocessing.\"\"\"\n\u001b[1;32m    541\u001b[0m         \u001b[0;32mtry\u001b[0m\u001b[0;34m:\u001b[0m\u001b[0;34m\u001b[0m\u001b[0;34m\u001b[0m\u001b[0m\n\u001b[0;32m--> 542\u001b[0;31m             \u001b[0;32mreturn\u001b[0m \u001b[0mfuture\u001b[0m\u001b[0;34m.\u001b[0m\u001b[0mresult\u001b[0m\u001b[0;34m(\u001b[0m\u001b[0mtimeout\u001b[0m\u001b[0;34m=\u001b[0m\u001b[0mtimeout\u001b[0m\u001b[0;34m)\u001b[0m\u001b[0;34m\u001b[0m\u001b[0;34m\u001b[0m\u001b[0m\n\u001b[0m\u001b[1;32m    543\u001b[0m         \u001b[0;32mexcept\u001b[0m \u001b[0mCfTimeoutError\u001b[0m \u001b[0;32mas\u001b[0m \u001b[0me\u001b[0m\u001b[0;34m:\u001b[0m\u001b[0;34m\u001b[0m\u001b[0;34m\u001b[0m\u001b[0m\n\u001b[1;32m    544\u001b[0m             \u001b[0;32mraise\u001b[0m \u001b[0mTimeoutError\u001b[0m \u001b[0;32mfrom\u001b[0m \u001b[0me\u001b[0m\u001b[0;34m\u001b[0m\u001b[0;34m\u001b[0m\u001b[0m\n",
      "\u001b[0;32m/usr/lib/python3.8/concurrent/futures/_base.py\u001b[0m in \u001b[0;36mresult\u001b[0;34m(self, timeout)\u001b[0m\n\u001b[1;32m    437\u001b[0m                     \u001b[0;32mreturn\u001b[0m \u001b[0mself\u001b[0m\u001b[0;34m.\u001b[0m\u001b[0m__get_result\u001b[0m\u001b[0;34m(\u001b[0m\u001b[0;34m)\u001b[0m\u001b[0;34m\u001b[0m\u001b[0;34m\u001b[0m\u001b[0m\n\u001b[1;32m    438\u001b[0m \u001b[0;34m\u001b[0m\u001b[0m\n\u001b[0;32m--> 439\u001b[0;31m                 \u001b[0mself\u001b[0m\u001b[0;34m.\u001b[0m\u001b[0m_condition\u001b[0m\u001b[0;34m.\u001b[0m\u001b[0mwait\u001b[0m\u001b[0;34m(\u001b[0m\u001b[0mtimeout\u001b[0m\u001b[0;34m)\u001b[0m\u001b[0;34m\u001b[0m\u001b[0;34m\u001b[0m\u001b[0m\n\u001b[0m\u001b[1;32m    440\u001b[0m \u001b[0;34m\u001b[0m\u001b[0m\n\u001b[1;32m    441\u001b[0m                 \u001b[0;32mif\u001b[0m \u001b[0mself\u001b[0m\u001b[0;34m.\u001b[0m\u001b[0m_state\u001b[0m \u001b[0;32min\u001b[0m \u001b[0;34m[\u001b[0m\u001b[0mCANCELLED\u001b[0m\u001b[0;34m,\u001b[0m \u001b[0mCANCELLED_AND_NOTIFIED\u001b[0m\u001b[0;34m]\u001b[0m\u001b[0;34m:\u001b[0m\u001b[0;34m\u001b[0m\u001b[0;34m\u001b[0m\u001b[0m\n",
      "\u001b[0;32m/usr/lib/python3.8/threading.py\u001b[0m in \u001b[0;36mwait\u001b[0;34m(self, timeout)\u001b[0m\n\u001b[1;32m    300\u001b[0m         \u001b[0;32mtry\u001b[0m\u001b[0;34m:\u001b[0m    \u001b[0;31m# restore state no matter what (e.g., KeyboardInterrupt)\u001b[0m\u001b[0;34m\u001b[0m\u001b[0;34m\u001b[0m\u001b[0m\n\u001b[1;32m    301\u001b[0m             \u001b[0;32mif\u001b[0m \u001b[0mtimeout\u001b[0m \u001b[0;32mis\u001b[0m \u001b[0;32mNone\u001b[0m\u001b[0;34m:\u001b[0m\u001b[0;34m\u001b[0m\u001b[0;34m\u001b[0m\u001b[0m\n\u001b[0;32m--> 302\u001b[0;31m                 \u001b[0mwaiter\u001b[0m\u001b[0;34m.\u001b[0m\u001b[0macquire\u001b[0m\u001b[0;34m(\u001b[0m\u001b[0;34m)\u001b[0m\u001b[0;34m\u001b[0m\u001b[0;34m\u001b[0m\u001b[0m\n\u001b[0m\u001b[1;32m    303\u001b[0m                 \u001b[0mgotit\u001b[0m \u001b[0;34m=\u001b[0m \u001b[0;32mTrue\u001b[0m\u001b[0;34m\u001b[0m\u001b[0;34m\u001b[0m\u001b[0m\n\u001b[1;32m    304\u001b[0m             \u001b[0;32melse\u001b[0m\u001b[0;34m:\u001b[0m\u001b[0;34m\u001b[0m\u001b[0;34m\u001b[0m\u001b[0m\n",
      "\u001b[0;31mKeyboardInterrupt\u001b[0m: "
     ]
    }
   ],
   "source": [
    "grid_outliers_last.fit(X_train, y_train)"
   ]
  },
  {
   "cell_type": "code",
   "execution_count": null,
   "id": "5b33a7ab",
   "metadata": {},
   "outputs": [],
   "source": [
    "grid_outliers_first.fit(X_train, y_train)"
   ]
  },
  {
   "cell_type": "code",
   "execution_count": null,
   "id": "40c6602b",
   "metadata": {},
   "outputs": [],
   "source": [
    "best_score = grid_ouliers_last.best_score_\n",
    "best_estimator_ouliers_last = grid_ouliers_last.best_estimator_\n",
    "y_pred_1 = best_estimator_ouliers_last.predict(X_test)"
   ]
  },
  {
   "cell_type": "code",
   "execution_count": null,
   "id": "d5f71fd9",
   "metadata": {},
   "outputs": [],
   "source": [
    "best_score = grid_ouliers_first.best_score_\n",
    "best_estimator_ouliers_first = grid_ouliers_first.best_estimator_\n",
    "y_pred_2 = best_estimator_ouliers_first.predict(X_test)"
   ]
  },
  {
   "cell_type": "code",
   "execution_count": null,
   "id": "b9804c85",
   "metadata": {},
   "outputs": [],
   "source": [
    "y_pred_1 = pd.to_csv('y_pred_outlierslast_best.csv', index=False)"
   ]
  },
  {
   "cell_type": "code",
   "execution_count": null,
   "id": "fe345300",
   "metadata": {},
   "outputs": [],
   "source": [
    "y_pred_2 = pd.to_csv('y_pred_outliersfirst_best.csv', index=False)"
   ]
  }
 ],
 "metadata": {
  "kernelspec": {
   "display_name": "Python 3",
   "language": "python",
   "name": "python3"
  },
  "language_info": {
   "codemirror_mode": {
    "name": "ipython",
    "version": 3
   },
   "file_extension": ".py",
   "mimetype": "text/x-python",
   "name": "python",
   "nbconvert_exporter": "python",
   "pygments_lexer": "ipython3",
   "version": "3.8.10"
  }
 },
 "nbformat": 4,
 "nbformat_minor": 5
}
