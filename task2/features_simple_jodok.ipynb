{
 "cells": [
  {
   "cell_type": "code",
   "execution_count": 10,
   "metadata": {},
   "outputs": [],
   "source": [
    "import sys\n",
    "sys.path.append('../../')\n",
    "\n",
    "from functools import partial\n",
    "from aml_project import utils\n",
    "\n",
    "import pandas as pd\n",
    "import numpy as np\n",
    "import neurokit2 as nk\n",
    "import biosppy.signals.ecg as ecg\n",
    "from sklearn.base import BaseEstimator, TransformerMixin\n",
    "from sklearn.pipeline import Pipeline\n",
    "from sklearn.feature_selection import SelectKBest\n",
    "from sklearn.pipeline import FeatureUnion\n",
    "from sklearn.model_selection import train_test_split\n",
    "import seaborn as sns\n",
    "import matplotlib.pyplot as plt\n",
    "from tqdm import tqdm\n",
    "from xgboost import XGBClassifier\n",
    "from sklearn.pipeline import Pipeline\n",
    "from sklearn.metrics import classification_report, confusion_matrix, f1_score, make_scorer\n",
    "sns.set('talk')\n",
    "pd.set_option('display.max_rows', 500)\n",
    "pd.set_option('display.max_columns', 500)\n",
    "%matplotlib inline"
   ]
  },
  {
   "cell_type": "code",
   "execution_count": 11,
   "metadata": {},
   "outputs": [
    {
     "name": "stdout",
     "output_type": "stream",
     "text": [
      "CPU times: user 36 s, sys: 1.36 s, total: 37.3 s\n",
      "Wall time: 37.9 s\n"
     ]
    }
   ],
   "source": [
    "%%time\n",
    "X = pd.read_csv('data/X_train.csv')"
   ]
  },
  {
   "cell_type": "code",
   "execution_count": 12,
   "metadata": {},
   "outputs": [
    {
     "name": "stdout",
     "output_type": "stream",
     "text": [
      "CPU times: user 24.1 s, sys: 559 ms, total: 24.6 s\n",
      "Wall time: 24.8 s\n"
     ]
    }
   ],
   "source": [
    "%%time\n",
    "X_test = pd.read_csv('data/X_test.csv')"
   ]
  },
  {
   "cell_type": "code",
   "execution_count": 13,
   "metadata": {},
   "outputs": [
    {
     "name": "stdout",
     "output_type": "stream",
     "text": [
      "CPU times: user 1.54 ms, sys: 793 µs, total: 2.33 ms\n",
      "Wall time: 2.1 ms\n"
     ]
    }
   ],
   "source": [
    "%%time\n",
    "y = pd.read_csv('data/y_train.csv')"
   ]
  },
  {
   "cell_type": "code",
   "execution_count": 40,
   "metadata": {},
   "outputs": [
    {
     "data": {
      "text/plain": [
       "0          0\n",
       "1          1\n",
       "2          2\n",
       "3          3\n",
       "4          4\n",
       "        ... \n",
       "3406    3406\n",
       "3407    3407\n",
       "3408    3408\n",
       "3409    3409\n",
       "3410    3410\n",
       "Name: id, Length: 3411, dtype: int64"
      ]
     },
     "execution_count": 40,
     "metadata": {},
     "output_type": "execute_result"
    }
   ],
   "source": [
    "X.pop('id')\n",
    "X_test.pop('id')"
   ]
  },
  {
   "cell_type": "code",
   "execution_count": 67,
   "metadata": {},
   "outputs": [],
   "source": [
    "X_train, X_val, y_train, y_val = train_test_split(X, y, stratify=y.y)"
   ]
  },
  {
   "cell_type": "code",
   "execution_count": 14,
   "metadata": {},
   "outputs": [],
   "source": [
    "def plot_signal(data, idx, vlines=[], titles=[]):\n",
    "    \n",
    "    if type(idx) == int:\n",
    "        idx = range(idx)\n",
    "        \n",
    "    width = 20\n",
    "    ncols = 1\n",
    "    if len(data.shape) > 2:\n",
    "        ncols = 5\n",
    "        width = 2\n",
    "        \n",
    "    nrows = len(idx) // ncols\n",
    "    fig, axes = plt.subplots(nrows=nrows, ncols=ncols, figsize=(ncols*width, nrows*5))\n",
    "    if len(idx) > 1:\n",
    "        axes = axes.flatten()\n",
    "    else:\n",
    "        axes = [axes]\n",
    "    for i, ax in enumerate(axes):\n",
    "        if len(data.shape) > 2:\n",
    "            ax.imshow(data[i][0])\n",
    "        else:\n",
    "            measurements = data.iloc[i].dropna().to_numpy(dtype='float32')\n",
    "            #measurements = measurements[0:-1:10]\n",
    "            measurements /= 1000\n",
    "            seconds = np.arange(0, len(measurements)) / 30\n",
    "            ax.plot(seconds, measurements)\n",
    "            for line in vlines:\n",
    "                ax.axvline(x=(line/30))\n",
    "        if len(titles) > 0:\n",
    "            ax.set_title(titles[idx[i]])"
   ]
  },
  {
   "cell_type": "code",
   "execution_count": 15,
   "metadata": {},
   "outputs": [],
   "source": [
    "def get_statistics(np_array):\n",
    "    if len(np_array) == 0:\n",
    "        return np.nan, np.nan, np.nan, np.nan, np.nan\n",
    "    array_mean = np.mean(np_array)\n",
    "    array_median = np.median(np_array)\n",
    "    array_std = np.std(np_array)\n",
    "    array_max = np.max(np_array)\n",
    "    array_min = np.min(np_array)\n",
    "    return array_mean, array_median, array_std, array_max, array_min"
   ]
  },
  {
   "cell_type": "code",
   "execution_count": 16,
   "metadata": {},
   "outputs": [],
   "source": [
    "def create_features(X, sampling_rate=150, threshold=0.2):\n",
    "    features_data = []\n",
    "    for i, signal in tqdm(enumerate(X), total=len(X)):\n",
    "        \n",
    "        signal_no_nan = pd.DataFrame(signal).dropna().to_numpy()\n",
    "        features_sample = []\n",
    "\n",
    "        rpeaks = ecg.engzee_segmenter(signal, sampling_rate, threshold=threshold)['rpeaks']\n",
    "        beats = ecg.extract_heartbeats(signal, rpeaks, sampling_rate)['templates']\n",
    "        _, waves_peak = nk.ecg_delineate(signal, rpeaks, sampling_rate=sampling_rate, method=\"dwt\", show=False)\n",
    "        \n",
    "        # remove nans\n",
    "        waves_peak_nonan = {k:[elem for elem in v if elem is not np.nan] for k,v in waves_peak.items()}\n",
    "        \n",
    "        \n",
    "        ppeaks = waves_peak_nonan['ECG_P_Peaks']\n",
    "        qpeaks = waves_peak_nonan['ECG_Q_Peaks']\n",
    "        speaks = waves_peak_nonan['ECG_S_Peaks']\n",
    "        tpeaks = waves_peak_nonan['ECG_T_Peaks']\n",
    "        ponsets = waves_peak_nonan['ECG_P_Onsets']\n",
    "        toffsets = waves_peak_nonan['ECG_T_Offsets']\n",
    "\n",
    "        # Amplitude values\n",
    "        P_amplitudes = signal[ppeaks]\n",
    "        Q_amplitudes = signal[qpeaks]\n",
    "        S_amplitudes = signal[speaks]\n",
    "        T_amplitudes = signal[tpeaks]\n",
    "        R_amplitudes = signal[rpeaks]\n",
    "        Pon_amplitudes = signal[ponsets]\n",
    "        Toff_amplitudes = signal[toffsets]\n",
    "\n",
    "        features_sample.extend(get_statistics(P_amplitudes))\n",
    "        features_sample.extend(get_statistics(Q_amplitudes))\n",
    "        features_sample.extend(get_statistics(S_amplitudes))\n",
    "        features_sample.extend(get_statistics(T_amplitudes))\n",
    "        features_sample.extend(get_statistics(R_amplitudes))\n",
    "        features_sample.extend(get_statistics(Pon_amplitudes))\n",
    "        features_sample.extend(get_statistics(Toff_amplitudes))\n",
    "\n",
    "        # Timing features\n",
    "        rr_interval = np.diff(rpeaks)/sampling_rate*1000 # rr interval in ms\n",
    "\n",
    "        pp_interval = np.diff(ppeaks)/sampling_rate*1000 # rr interval in ms\n",
    "\n",
    "        qrs_duration = (np.array(waves_peak['ECG_R_Offsets'])-np.array(waves_peak['ECG_R_Onsets']))/sampling_rate*1000 # in ms\n",
    "        qrs_duration = qrs_duration[~np.isnan(qrs_duration)]\n",
    "\n",
    "        p_duration = (np.array(waves_peak['ECG_P_Offsets'])-np.array(waves_peak['ECG_P_Onsets']))/sampling_rate*1000 # in ms\n",
    "        p_duration = p_duration[~np.isnan(p_duration)]\n",
    "\n",
    "        pr_duration = (np.array(waves_peak['ECG_R_Onsets'])-np.array(waves_peak['ECG_P_Onsets']))/sampling_rate*1000 # in ms\n",
    "        pr_duration = pr_duration[~np.isnan(pr_duration)]\n",
    "\n",
    "        rwave_peaktime = rpeaks-waves_peak['ECG_R_Onsets']\n",
    "        rwave_peaktime = rwave_peaktime[~np.isnan(rwave_peaktime)]\n",
    "\n",
    "        features_sample.extend(get_statistics(rr_interval))\n",
    "        features_sample.extend(get_statistics(pp_interval))\n",
    "        features_sample.extend(get_statistics(qrs_duration))\n",
    "        features_sample.extend(get_statistics(p_duration))\n",
    "        features_sample.extend(get_statistics(pr_duration))\n",
    "        features_sample.extend(get_statistics(rwave_peaktime))\n",
    "\n",
    "        # get hrv features  (time, frequency, non-linear)\n",
    "        df_hrv_time = nk.hrv_time(rpeaks, sampling_rate=sampling_rate)\n",
    "        #df_hrv_time.dropna(axis=1, inplace=True)\n",
    "        features_sample.extend(df_hrv_time.values[0])\n",
    "        \n",
    "        df_hrv_frequency = nk.hrv_frequency(rpeaks, sampling_rate)\n",
    "        #df_hrv_frequency.dropna(axis=1, inplace=True)\n",
    "        features_sample.extend(df_hrv_frequency.values[0])\n",
    "\n",
    "        features_data.append(np.array(features_sample))\n",
    "    features_data = np.stack(features_data)\n",
    "\n",
    "    return features_data"
   ]
  },
  {
   "cell_type": "code",
   "execution_count": 35,
   "metadata": {},
   "outputs": [],
   "source": [
    "def create_features_simple(X, sampling_rate=300, threshold=0.2):\n",
    "    features_data = []\n",
    "    for i in tqdm(range(len(X))):\n",
    "        \n",
    "        signal = X.iloc[i].dropna()\n",
    "        \n",
    "        features_sample = []\n",
    "        \n",
    "        if len(beats) < 2:\n",
    "            print(i)\n",
    "            continue\n",
    "        \n",
    "        ts, filtered, rpeaks, templates_ts, templates, heart_rate_ts, heart_rate = ecg.ecg(signal, sampling_rate, show=False)\n",
    "        rpeaks = ecg.correct_rpeaks(signal=signal, rpeaks=rpeaks, sampling_rate=sampling_rate, tol=0.1)['rpeaks']\n",
    "\n",
    "        ramps = signal[rpeaks]\n",
    "        \n",
    "        if len(heart_rate) < 2:\n",
    "            heart_rate = [0, 1]\n",
    "        if len(heart_rate_ts) < 2:\n",
    "            heart_rate_ts = [0, 1]\n",
    "        \n",
    "\n",
    "        features_sample.extend(get_statistics(ramps))\n",
    "        features_sample.extend(get_statistics(rpeaks))\n",
    "        features_sample.extend(get_statistics(heart_rate))\n",
    "        features_sample.extend(get_statistics(heart_rate_ts))\n",
    "        features_sample.append(np.sum(filtered - signal))\n",
    "        \n",
    "        features_sample += list(np.mean(templates, axis=0))\n",
    "        features_sample += list(np.std(templates, axis=0))\n",
    "        features_sample += list(np.min(templates, axis=0))\n",
    "        features_sample += list(np.max(templates, axis=0))\n",
    "        \n",
    "        features_sample = np.array(features_sample)\n",
    "        features_sample[np.isnan(features_sample)] = 0\n",
    "        \n",
    "        features_data.append(features_sample)\n",
    "        \n",
    "    return np.stack(features_data, axis=0)"
   ]
  },
  {
   "cell_type": "code",
   "execution_count": 65,
   "metadata": {},
   "outputs": [],
   "source": [
    "def create_features_other(X, sampling_rate=300, threshold=0.2):\n",
    "    features_data = []\n",
    "    \n",
    "    \n",
    "    for i in tqdm(range(len(X))):\n",
    "        features_sample = []\n",
    "        \n",
    "        signal = X.iloc[i].dropna()\n",
    "\n",
    "        corr = signal.autocorr(lag=2)\n",
    "        features_sample.append(corr)\n",
    "\n",
    "        features_sample.append(np.average(signal))\n",
    "        features_sample.append(np.ptp(signal))\n",
    "\n",
    "        f = np.fft.fft(signal)\n",
    "        array = f[0:800]\n",
    "        n = 15\n",
    "        indices = array.argsort()[-n:][::-1]\n",
    "        \n",
    "       # if len(indices) == 1:\n",
    "       #     indices = [np.nan for _ in range(n)]\n",
    "        features_sample.extend(indices)\n",
    "        features_data.append(np.array(features_sample))\n",
    "\n",
    "    return np.stack(features_data, axis=0)"
   ]
  },
  {
   "cell_type": "code",
   "execution_count": 69,
   "metadata": {
    "scrolled": true
   },
   "outputs": [
    {
     "name": "stderr",
     "output_type": "stream",
     "text": [
      "100%|██████████| 5117/5117 [00:41<00:00, 122.36it/s]"
     ]
    },
    {
     "name": "stdout",
     "output_type": "stream",
     "text": [
      "CPU times: user 40.9 s, sys: 716 ms, total: 41.6 s\n",
      "Wall time: 41.8 s\n"
     ]
    },
    {
     "name": "stderr",
     "output_type": "stream",
     "text": [
      "\n"
     ]
    }
   ],
   "source": [
    "%%time\n",
    "features_train = create_features_other(X)"
   ]
  },
  {
   "cell_type": "code",
   "execution_count": 70,
   "metadata": {},
   "outputs": [
    {
     "data": {
      "text/plain": [
       "(5117, 18)"
      ]
     },
     "execution_count": 70,
     "metadata": {},
     "output_type": "execute_result"
    }
   ],
   "source": [
    "features_train.shape"
   ]
  },
  {
   "cell_type": "code",
   "execution_count": 71,
   "metadata": {},
   "outputs": [
    {
     "name": "stderr",
     "output_type": "stream",
     "text": [
      "100%|██████████| 3411/3411 [00:27<00:00, 123.34it/s]"
     ]
    },
    {
     "name": "stdout",
     "output_type": "stream",
     "text": [
      "CPU times: user 26.9 s, sys: 559 ms, total: 27.5 s\n",
      "Wall time: 27.7 s\n"
     ]
    },
    {
     "name": "stderr",
     "output_type": "stream",
     "text": [
      "\n"
     ]
    }
   ],
   "source": [
    "%%time\n",
    "features_test = create_features_other(X_test)"
   ]
  },
  {
   "cell_type": "code",
   "execution_count": 83,
   "metadata": {},
   "outputs": [],
   "source": [
    "pd.DataFrame(features_train).to_csv('data/features_train_fft.csv')\n",
    "pd.DataFrame(features_test).to_csv('data/features_test_fft.csv')"
   ]
  },
  {
   "cell_type": "code",
   "execution_count": 84,
   "metadata": {},
   "outputs": [
    {
     "data": {
      "text/plain": [
       "(3411, 18)"
      ]
     },
     "execution_count": 84,
     "metadata": {},
     "output_type": "execute_result"
    }
   ],
   "source": [
    "df_fft = pd.read_csv('data/features_test_fft.csv')\n",
    "df_fft.pop('Unnamed: 0')\n",
    "df_fft.shape"
   ]
  },
  {
   "cell_type": "code",
   "execution_count": null,
   "metadata": {},
   "outputs": [],
   "source": [
    "clf = XGBClassifier(learning_rate=0.05, n_estimators=300, max_depth=5)"
   ]
  },
  {
   "cell_type": "code",
   "execution_count": 129,
   "metadata": {},
   "outputs": [
    {
     "name": "stderr",
     "output_type": "stream",
     "text": [
      "/Users/jodok/02 Code/spring21-JodokVieli/venv/lib/python3.8/site-packages/xgboost/sklearn.py:1224: UserWarning: The use of label encoder in XGBClassifier is deprecated and will be removed in a future release. To remove this warning, do the following: 1) Pass option use_label_encoder=False when constructing XGBClassifier object; and 2) Encode your labels (y) as integers starting with 0, i.e. 0, 1, 2, ..., [num_class - 1].\n",
      "  warnings.warn(label_encoder_deprecation_msg, UserWarning)\n"
     ]
    },
    {
     "name": "stdout",
     "output_type": "stream",
     "text": [
      "[20:15:58] WARNING: /Users/travis/build/dmlc/xgboost/src/learner.cc:1115: Starting in XGBoost 1.3.0, the default evaluation metric used with the objective 'multi:softprob' was changed from 'merror' to 'mlogloss'. Explicitly set eval_metric if you'd like to restore the old behavior.\n"
     ]
    },
    {
     "data": {
      "text/plain": [
       "XGBClassifier(base_score=0.5, booster='gbtree', colsample_bylevel=1,\n",
       "              colsample_bynode=1, colsample_bytree=1, enable_categorical=False,\n",
       "              gamma=0, gpu_id=-1, importance_type=None,\n",
       "              interaction_constraints='', learning_rate=0.05, max_delta_step=0,\n",
       "              max_depth=5, min_child_weight=1, missing=nan,\n",
       "              monotone_constraints='()', n_estimators=300, n_jobs=10,\n",
       "              num_parallel_tree=1, objective='multi:softprob', predictor='auto',\n",
       "              random_state=0, reg_alpha=0, reg_lambda=1, scale_pos_weight=None,\n",
       "              subsample=1, tree_method='exact', validate_parameters=1,\n",
       "              verbosity=None)"
      ]
     },
     "execution_count": 129,
     "metadata": {},
     "output_type": "execute_result"
    }
   ],
   "source": [
    "%%time\n",
    "clf.fit(features_train, y_train.y.values.ravel())"
   ]
  },
  {
   "cell_type": "code",
   "execution_count": 130,
   "metadata": {},
   "outputs": [],
   "source": [
    "y_pred = clf.predict(features_val)"
   ]
  },
  {
   "cell_type": "code",
   "execution_count": 131,
   "metadata": {},
   "outputs": [
    {
     "data": {
      "text/plain": [
       "0.7859375"
      ]
     },
     "execution_count": 131,
     "metadata": {},
     "output_type": "execute_result"
    }
   ],
   "source": [
    "f1_score(y_val.y.values, y_pred, average='micro')"
   ]
  },
  {
   "cell_type": "code",
   "execution_count": 132,
   "metadata": {},
   "outputs": [],
   "source": [
    "y_result = clf.predict(features_test)"
   ]
  },
  {
   "cell_type": "code",
   "execution_count": 136,
   "metadata": {},
   "outputs": [],
   "source": [
    "utils.results_to_csv(y_result, 'results.csv')"
   ]
  },
  {
   "cell_type": "code",
   "execution_count": null,
   "metadata": {},
   "outputs": [],
   "source": []
  }
 ],
 "metadata": {
  "colab": {
   "collapsed_sections": [],
   "name": "CleanedUpFeatureEngineeringTask3.ipynb",
   "provenance": []
  },
  "kernelspec": {
   "display_name": "Python (spring21JodokVieli)",
   "language": "python",
   "name": "spring21jodokvieli"
  },
  "language_info": {
   "codemirror_mode": {
    "name": "ipython",
    "version": 3
   },
   "file_extension": ".py",
   "mimetype": "text/x-python",
   "name": "python",
   "nbconvert_exporter": "python",
   "pygments_lexer": "ipython3",
   "version": "3.8.0"
  },
  "widgets": {
   "application/vnd.jupyter.widget-state+json": {
    "1844565790da4d199f4f52bc2c6b4e18": {
     "model_module": "@jupyter-widgets/controls",
     "model_name": "DescriptionStyleModel",
     "state": {
      "_model_module": "@jupyter-widgets/controls",
      "_model_module_version": "1.5.0",
      "_model_name": "DescriptionStyleModel",
      "_view_count": null,
      "_view_module": "@jupyter-widgets/base",
      "_view_module_version": "1.2.0",
      "_view_name": "StyleView",
      "description_width": ""
     }
    },
    "3f871254342245d38f525b2b8fb27052": {
     "model_module": "@jupyter-widgets/controls",
     "model_name": "FloatProgressModel",
     "state": {
      "_dom_classes": [],
      "_model_module": "@jupyter-widgets/controls",
      "_model_module_version": "1.5.0",
      "_model_name": "FloatProgressModel",
      "_view_count": null,
      "_view_module": "@jupyter-widgets/controls",
      "_view_module_version": "1.5.0",
      "_view_name": "ProgressView",
      "bar_style": "success",
      "description": "",
      "description_tooltip": null,
      "layout": "IPY_MODEL_9c7a2d474ed240a59509d82212aa244b",
      "max": 1,
      "min": 0,
      "orientation": "horizontal",
      "style": "IPY_MODEL_bb9f4c820017428a8d11bd4b2dec5da2",
      "value": 1
     }
    },
    "6d08204a6c69462da29d5370cfab62a2": {
     "model_module": "@jupyter-widgets/controls",
     "model_name": "HBoxModel",
     "state": {
      "_dom_classes": [],
      "_model_module": "@jupyter-widgets/controls",
      "_model_module_version": "1.5.0",
      "_model_name": "HBoxModel",
      "_view_count": null,
      "_view_module": "@jupyter-widgets/controls",
      "_view_module_version": "1.5.0",
      "_view_name": "HBoxView",
      "box_style": "",
      "children": [
       "IPY_MODEL_3f871254342245d38f525b2b8fb27052",
       "IPY_MODEL_b1493fa7cd364b368cea66052ac5ab1c"
      ],
      "layout": "IPY_MODEL_8c2375ec3ab2489ea982cc9258c2fb1e"
     }
    },
    "6d3edaec3e1b4cc4b4f4f43e545acf6c": {
     "model_module": "@jupyter-widgets/base",
     "model_name": "LayoutModel",
     "state": {
      "_model_module": "@jupyter-widgets/base",
      "_model_module_version": "1.2.0",
      "_model_name": "LayoutModel",
      "_view_count": null,
      "_view_module": "@jupyter-widgets/base",
      "_view_module_version": "1.2.0",
      "_view_name": "LayoutView",
      "align_content": null,
      "align_items": null,
      "align_self": null,
      "border": null,
      "bottom": null,
      "display": null,
      "flex": null,
      "flex_flow": null,
      "grid_area": null,
      "grid_auto_columns": null,
      "grid_auto_flow": null,
      "grid_auto_rows": null,
      "grid_column": null,
      "grid_gap": null,
      "grid_row": null,
      "grid_template_areas": null,
      "grid_template_columns": null,
      "grid_template_rows": null,
      "height": null,
      "justify_content": null,
      "justify_items": null,
      "left": null,
      "margin": null,
      "max_height": null,
      "max_width": null,
      "min_height": null,
      "min_width": null,
      "object_fit": null,
      "object_position": null,
      "order": null,
      "overflow": null,
      "overflow_x": null,
      "overflow_y": null,
      "padding": null,
      "right": null,
      "top": null,
      "visibility": null,
      "width": null
     }
    },
    "8c2375ec3ab2489ea982cc9258c2fb1e": {
     "model_module": "@jupyter-widgets/base",
     "model_name": "LayoutModel",
     "state": {
      "_model_module": "@jupyter-widgets/base",
      "_model_module_version": "1.2.0",
      "_model_name": "LayoutModel",
      "_view_count": null,
      "_view_module": "@jupyter-widgets/base",
      "_view_module_version": "1.2.0",
      "_view_name": "LayoutView",
      "align_content": null,
      "align_items": null,
      "align_self": null,
      "border": null,
      "bottom": null,
      "display": null,
      "flex": null,
      "flex_flow": null,
      "grid_area": null,
      "grid_auto_columns": null,
      "grid_auto_flow": null,
      "grid_auto_rows": null,
      "grid_column": null,
      "grid_gap": null,
      "grid_row": null,
      "grid_template_areas": null,
      "grid_template_columns": null,
      "grid_template_rows": null,
      "height": null,
      "justify_content": null,
      "justify_items": null,
      "left": null,
      "margin": null,
      "max_height": null,
      "max_width": null,
      "min_height": null,
      "min_width": null,
      "object_fit": null,
      "object_position": null,
      "order": null,
      "overflow": null,
      "overflow_x": null,
      "overflow_y": null,
      "padding": null,
      "right": null,
      "top": null,
      "visibility": null,
      "width": null
     }
    },
    "9c7a2d474ed240a59509d82212aa244b": {
     "model_module": "@jupyter-widgets/base",
     "model_name": "LayoutModel",
     "state": {
      "_model_module": "@jupyter-widgets/base",
      "_model_module_version": "1.2.0",
      "_model_name": "LayoutModel",
      "_view_count": null,
      "_view_module": "@jupyter-widgets/base",
      "_view_module_version": "1.2.0",
      "_view_name": "LayoutView",
      "align_content": null,
      "align_items": null,
      "align_self": null,
      "border": null,
      "bottom": null,
      "display": null,
      "flex": null,
      "flex_flow": null,
      "grid_area": null,
      "grid_auto_columns": null,
      "grid_auto_flow": null,
      "grid_auto_rows": null,
      "grid_column": null,
      "grid_gap": null,
      "grid_row": null,
      "grid_template_areas": null,
      "grid_template_columns": null,
      "grid_template_rows": null,
      "height": null,
      "justify_content": null,
      "justify_items": null,
      "left": null,
      "margin": null,
      "max_height": null,
      "max_width": null,
      "min_height": null,
      "min_width": null,
      "object_fit": null,
      "object_position": null,
      "order": null,
      "overflow": null,
      "overflow_x": null,
      "overflow_y": null,
      "padding": null,
      "right": null,
      "top": null,
      "visibility": null,
      "width": null
     }
    },
    "b1493fa7cd364b368cea66052ac5ab1c": {
     "model_module": "@jupyter-widgets/controls",
     "model_name": "HTMLModel",
     "state": {
      "_dom_classes": [],
      "_model_module": "@jupyter-widgets/controls",
      "_model_module_version": "1.5.0",
      "_model_name": "HTMLModel",
      "_view_count": null,
      "_view_module": "@jupyter-widgets/controls",
      "_view_module_version": "1.5.0",
      "_view_name": "HTMLView",
      "description": "",
      "description_tooltip": null,
      "layout": "IPY_MODEL_6d3edaec3e1b4cc4b4f4f43e545acf6c",
      "placeholder": "​",
      "style": "IPY_MODEL_1844565790da4d199f4f52bc2c6b4e18",
      "value": " 5111/? [03:29&lt;00:00, 24.37it/s]"
     }
    },
    "bb9f4c820017428a8d11bd4b2dec5da2": {
     "model_module": "@jupyter-widgets/controls",
     "model_name": "ProgressStyleModel",
     "state": {
      "_model_module": "@jupyter-widgets/controls",
      "_model_module_version": "1.5.0",
      "_model_name": "ProgressStyleModel",
      "_view_count": null,
      "_view_module": "@jupyter-widgets/base",
      "_view_module_version": "1.2.0",
      "_view_name": "StyleView",
      "bar_color": null,
      "description_width": "initial"
     }
    }
   }
  }
 },
 "nbformat": 4,
 "nbformat_minor": 1
}
