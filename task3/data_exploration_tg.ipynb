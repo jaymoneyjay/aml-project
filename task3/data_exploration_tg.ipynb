#%%
from task3.utils.data_utils import load_zipped_pickle
import numpy as np

train = load_zipped_pickle('data/train.pkl')

for i, sample in enumerate(train):
    video = sample['video']
    flat_video = video.flatten()
    print('{}: min: {}, max: {}, avg: {}, median: {}'.format(i, flat_video.min(), flat_video.max(), np. average(flat_video), np.median(flat_video)))
    # df_describe = pd.DataFrame(flat_video)
    # df_describe.describe()

