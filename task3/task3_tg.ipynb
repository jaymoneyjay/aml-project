{
 "cells": [
  {
   "cell_type": "markdown",
   "metadata": {
    "pycharm": {
     "name": "#%% md\n"
    }
   },
   "source": [
    "# Data loader demo"
   ]
  },
  {
   "cell_type": "code",
   "execution_count": 3,
   "metadata": {},
   "outputs": [
    {
     "data": {
      "text/plain": "<module 'task3.utils.config' from '/Users/tg/projects/aml_project/task3/utils/config.py'>"
     },
     "execution_count": 3,
     "metadata": {},
     "output_type": "execute_result"
    }
   ],
   "source": [
    "from importlib import reload\n",
    "import sys\n",
    "import task3.utils.config\n",
    "reload(sys.modules['task3.utils.config'])"
   ]
  },
  {
   "cell_type": "markdown",
   "metadata": {
    "pycharm": {
     "name": "#%% md\n"
    }
   },
   "source": [
    "## Initialize setup and get the data loader"
   ]
  },
  {
   "cell_type": "code",
   "execution_count": 4,
   "metadata": {
    "pycharm": {
     "name": "#%%\n"
    }
   },
   "outputs": [
    {
     "name": "stdout",
     "output_type": "stream",
     "text": [
      "2021-12-26T01:15:13.700831+0100 INFO Looking for heatmap \"data/box_heatmap.pkl\"\n",
      "2021-12-26T01:15:23.991070+0100 DEBUG min_dims of expert set: [579, 612]\n",
      "2021-12-26T01:15:24.037658+0100 DEBUG frame_shape: (583, 743)\n",
      "2021-12-26T01:15:24.038982+0100 DEBUG box_shape: (583, 743)\n",
      "2021-12-26T01:15:24.039620+0100 DEBUG box_shape: (587, 612)\n",
      "2021-12-26T01:15:24.039858+0100 DEBUG box_shape: (731, 765)\n",
      "2021-12-26T01:15:24.040722+0100 DEBUG box_shape: (583, 809)\n",
      "2021-12-26T01:15:24.042153+0100 DEBUG box_shape: (586, 821)\n",
      "2021-12-26T01:15:24.042468+0100 DEBUG box_shape: (583, 748)\n",
      "2021-12-26T01:15:24.042708+0100 DEBUG box_shape: (584, 815)\n",
      "2021-12-26T01:15:24.042959+0100 DEBUG box_shape: (583, 796)\n",
      "2021-12-26T01:15:24.043164+0100 DEBUG box_shape: (584, 736)\n",
      "2021-12-26T01:15:24.043742+0100 DEBUG box_shape: (587, 647)\n",
      "2021-12-26T01:15:24.043987+0100 DEBUG box_shape: (584, 674)\n",
      "2021-12-26T01:15:24.044203+0100 DEBUG box_shape: (582, 851)\n",
      "2021-12-26T01:15:24.044462+0100 DEBUG box_shape: (730, 956)\n",
      "2021-12-26T01:15:24.044728+0100 DEBUG box_shape: (585, 760)\n",
      "2021-12-26T01:15:24.044980+0100 DEBUG box_shape: (583, 628)\n",
      "2021-12-26T01:15:24.045190+0100 DEBUG box_shape: (587, 791)\n",
      "2021-12-26T01:15:24.045457+0100 DEBUG box_shape: (587, 713)\n",
      "2021-12-26T01:15:24.045651+0100 DEBUG box_shape: (731, 834)\n",
      "2021-12-26T01:15:24.045873+0100 DEBUG box_shape: (579, 844)\n"
     ]
    },
    {
     "ename": "ValueError",
     "evalue": "all input arrays must have the same shape",
     "output_type": "error",
     "traceback": [
      "\u001B[0;31m---------------------------------------------------------------------------\u001B[0m",
      "\u001B[0;31mValueError\u001B[0m                                Traceback (most recent call last)",
      "\u001B[0;32m/var/folders/hg/k32qv9qd6mvgsc9jdq4511cw0000gp/T/ipykernel_39585/735079049.py\u001B[0m in \u001B[0;36m<module>\u001B[0;34m\u001B[0m\n\u001B[1;32m      8\u001B[0m \u001B[0;32mif\u001B[0m \u001B[0;32mnot\u001B[0m \u001B[0msubmission_only\u001B[0m\u001B[0;34m:\u001B[0m\u001B[0;34m\u001B[0m\u001B[0;34m\u001B[0m\u001B[0m\n\u001B[1;32m      9\u001B[0m     \u001B[0mtraining_loader\u001B[0m\u001B[0;34m,\u001B[0m \u001B[0mvalidation_loader\u001B[0m\u001B[0;34m,\u001B[0m \u001B[0mtest_loader\u001B[0m \u001B[0;34m=\u001B[0m \u001B[0mget_data_loader\u001B[0m\u001B[0;34m(\u001B[0m\u001B[0mcfg\u001B[0m\u001B[0;34m,\u001B[0m \u001B[0mmode\u001B[0m\u001B[0;34m=\u001B[0m\u001B[0;34m'train'\u001B[0m\u001B[0;34m,\u001B[0m \u001B[0mget_subset\u001B[0m\u001B[0;34m=\u001B[0m\u001B[0;32mFalse\u001B[0m\u001B[0;34m)\u001B[0m\u001B[0;34m\u001B[0m\u001B[0;34m\u001B[0m\u001B[0m\n\u001B[0;32m---> 10\u001B[0;31m \u001B[0msubmission_loader\u001B[0m \u001B[0;34m=\u001B[0m \u001B[0mget_data_loader\u001B[0m\u001B[0;34m(\u001B[0m\u001B[0mcfg\u001B[0m\u001B[0;34m,\u001B[0m \u001B[0mmode\u001B[0m\u001B[0;34m=\u001B[0m\u001B[0;34m'submission'\u001B[0m\u001B[0;34m,\u001B[0m \u001B[0mget_subset\u001B[0m\u001B[0;34m=\u001B[0m\u001B[0;32mFalse\u001B[0m\u001B[0;34m)\u001B[0m\u001B[0;34m\u001B[0m\u001B[0;34m\u001B[0m\u001B[0m\n\u001B[0m\u001B[1;32m     11\u001B[0m \u001B[0;34m\u001B[0m\u001B[0m\n",
      "\u001B[0;32m~/projects/aml_project/task3/utils/config.py\u001B[0m in \u001B[0;36mget_data_loader\u001B[0;34m(cfg, mode, get_subset)\u001B[0m\n\u001B[1;32m     49\u001B[0m     \u001B[0mdata_cfg\u001B[0m \u001B[0;34m=\u001B[0m \u001B[0mcfg\u001B[0m\u001B[0;34m[\u001B[0m\u001B[0;34m'data'\u001B[0m\u001B[0;34m]\u001B[0m\u001B[0;34m\u001B[0m\u001B[0;34m\u001B[0m\u001B[0m\n\u001B[1;32m     50\u001B[0m \u001B[0;34m\u001B[0m\u001B[0m\n\u001B[0;32m---> 51\u001B[0;31m     dataset = Dataset(\n\u001B[0m\u001B[1;32m     52\u001B[0m         \u001B[0mdata_cfg\u001B[0m\u001B[0;34m=\u001B[0m\u001B[0mdata_cfg\u001B[0m\u001B[0;34m,\u001B[0m\u001B[0;34m\u001B[0m\u001B[0;34m\u001B[0m\u001B[0m\n\u001B[1;32m     53\u001B[0m         \u001B[0mmode\u001B[0m\u001B[0;34m=\u001B[0m\u001B[0mmode\u001B[0m\u001B[0;34m,\u001B[0m\u001B[0;34m\u001B[0m\u001B[0;34m\u001B[0m\u001B[0m\n",
      "\u001B[0;32m~/projects/aml_project/task3/utils/dataset.py\u001B[0m in \u001B[0;36m__init__\u001B[0;34m(self, data_cfg, mode)\u001B[0m\n\u001B[1;32m     74\u001B[0m                 \u001B[0mexpert_samples\u001B[0m \u001B[0;34m=\u001B[0m \u001B[0mlist\u001B[0m\u001B[0;34m(\u001B[0m\u001B[0mfilter\u001B[0m\u001B[0;34m(\u001B[0m\u001B[0;32mlambda\u001B[0m \u001B[0md\u001B[0m\u001B[0;34m:\u001B[0m \u001B[0md\u001B[0m\u001B[0;34m[\u001B[0m\u001B[0;34m'dataset'\u001B[0m\u001B[0;34m]\u001B[0m \u001B[0;34m==\u001B[0m \u001B[0;34m'expert'\u001B[0m\u001B[0;34m,\u001B[0m \u001B[0mtrain_samples\u001B[0m\u001B[0;34m)\u001B[0m\u001B[0;34m)\u001B[0m\u001B[0;34m\u001B[0m\u001B[0;34m\u001B[0m\u001B[0m\n\u001B[1;32m     75\u001B[0m                 \u001B[0mnormalize_expert_dimensions\u001B[0m\u001B[0;34m(\u001B[0m\u001B[0mexpert_samples\u001B[0m\u001B[0;34m)\u001B[0m\u001B[0;34m\u001B[0m\u001B[0;34m\u001B[0m\u001B[0m\n\u001B[0;32m---> 76\u001B[0;31m                 \u001B[0mw_and_h\u001B[0m \u001B[0;34m=\u001B[0m \u001B[0mget_windows_and_heatmap\u001B[0m\u001B[0;34m(\u001B[0m\u001B[0mexpert_samples\u001B[0m\u001B[0;34m)\u001B[0m\u001B[0;34m\u001B[0m\u001B[0;34m\u001B[0m\u001B[0m\n\u001B[0m\u001B[1;32m     77\u001B[0m                 \u001B[0mself\u001B[0m\u001B[0;34m.\u001B[0m\u001B[0mheatmap\u001B[0m \u001B[0;34m=\u001B[0m \u001B[0mw_and_h\u001B[0m\u001B[0;34m[\u001B[0m\u001B[0;34m'heatmap'\u001B[0m\u001B[0;34m]\u001B[0m\u001B[0;34m\u001B[0m\u001B[0;34m\u001B[0m\u001B[0m\n\u001B[1;32m     78\u001B[0m                 \u001B[0mself\u001B[0m\u001B[0;34m.\u001B[0m\u001B[0mwindows\u001B[0m \u001B[0;34m=\u001B[0m \u001B[0mw_and_h\u001B[0m\u001B[0;34m[\u001B[0m\u001B[0;34m'windows'\u001B[0m\u001B[0;34m]\u001B[0m\u001B[0;34m\u001B[0m\u001B[0;34m\u001B[0m\u001B[0m\n",
      "\u001B[0;32m~/projects/aml_project/task3/utils/roi_prediction.py\u001B[0m in \u001B[0;36mget_windows_and_heatmap\u001B[0;34m(data)\u001B[0m\n\u001B[1;32m    112\u001B[0m \u001B[0;32mdef\u001B[0m \u001B[0mget_windows_and_heatmap\u001B[0m\u001B[0;34m(\u001B[0m\u001B[0mdata\u001B[0m\u001B[0;34m)\u001B[0m\u001B[0;34m:\u001B[0m\u001B[0;34m\u001B[0m\u001B[0;34m\u001B[0m\u001B[0m\n\u001B[1;32m    113\u001B[0m     \u001B[0mwindows\u001B[0m \u001B[0;34m=\u001B[0m \u001B[0mget_windows\u001B[0m\u001B[0;34m(\u001B[0m\u001B[0mdata\u001B[0m\u001B[0;34m)\u001B[0m\u001B[0;34m\u001B[0m\u001B[0;34m\u001B[0m\u001B[0m\n\u001B[0;32m--> 114\u001B[0;31m     \u001B[0mheat_norm\u001B[0m \u001B[0;34m=\u001B[0m \u001B[0mheatmap_norm\u001B[0m\u001B[0;34m(\u001B[0m\u001B[0mdata\u001B[0m\u001B[0;34m,\u001B[0m \u001B[0mwindows\u001B[0m\u001B[0;34m)\u001B[0m\u001B[0;34m\u001B[0m\u001B[0;34m\u001B[0m\u001B[0m\n\u001B[0m\u001B[1;32m    115\u001B[0m \u001B[0;34m\u001B[0m\u001B[0m\n\u001B[1;32m    116\u001B[0m     return {\n",
      "\u001B[0;32m~/projects/aml_project/task3/utils/roi_prediction.py\u001B[0m in \u001B[0;36mheatmap_norm\u001B[0;34m(data, windows)\u001B[0m\n\u001B[1;32m     80\u001B[0m \u001B[0;32mdef\u001B[0m \u001B[0mheatmap_norm\u001B[0m\u001B[0;34m(\u001B[0m\u001B[0mdata\u001B[0m\u001B[0;34m,\u001B[0m \u001B[0mwindows\u001B[0m\u001B[0;34m)\u001B[0m\u001B[0;34m:\u001B[0m\u001B[0;34m\u001B[0m\u001B[0;34m\u001B[0m\u001B[0m\n\u001B[1;32m     81\u001B[0m     \u001B[0mnorms\u001B[0m \u001B[0;34m=\u001B[0m \u001B[0;34m[\u001B[0m\u001B[0;34m]\u001B[0m\u001B[0;34m\u001B[0m\u001B[0;34m\u001B[0m\u001B[0m\n\u001B[0;32m---> 82\u001B[0;31m     \u001B[0mheatmap\u001B[0m \u001B[0;34m=\u001B[0m \u001B[0mgen_heatmap\u001B[0m\u001B[0;34m(\u001B[0m\u001B[0mdata\u001B[0m\u001B[0;34m)\u001B[0m\u001B[0;34m\u001B[0m\u001B[0;34m\u001B[0m\u001B[0m\n\u001B[0m\u001B[1;32m     83\u001B[0m     \u001B[0;32mfor\u001B[0m \u001B[0mw\u001B[0m \u001B[0;32min\u001B[0m \u001B[0mwindows\u001B[0m\u001B[0;34m:\u001B[0m\u001B[0;34m\u001B[0m\u001B[0;34m\u001B[0m\u001B[0m\n\u001B[1;32m     84\u001B[0m         \u001B[0mh\u001B[0m \u001B[0;34m=\u001B[0m \u001B[0mw\u001B[0m\u001B[0;34m.\u001B[0m\u001B[0mcrop\u001B[0m\u001B[0;34m(\u001B[0m\u001B[0mheatmap\u001B[0m\u001B[0;34m)\u001B[0m\u001B[0;34m.\u001B[0m\u001B[0mflatten\u001B[0m\u001B[0;34m(\u001B[0m\u001B[0;34m)\u001B[0m\u001B[0;34m\u001B[0m\u001B[0;34m\u001B[0m\u001B[0m\n",
      "\u001B[0;32m~/projects/aml_project/task3/utils/roi_prediction.py\u001B[0m in \u001B[0;36mgen_heatmap\u001B[0;34m(data, show)\u001B[0m\n\u001B[1;32m     70\u001B[0m         \u001B[0mboxes\u001B[0m\u001B[0;34m.\u001B[0m\u001B[0mappend\u001B[0m\u001B[0;34m(\u001B[0m\u001B[0mbox\u001B[0m\u001B[0;34m)\u001B[0m\u001B[0;34m\u001B[0m\u001B[0;34m\u001B[0m\u001B[0m\n\u001B[1;32m     71\u001B[0m \u001B[0;34m\u001B[0m\u001B[0m\n\u001B[0;32m---> 72\u001B[0;31m     \u001B[0mboxes\u001B[0m \u001B[0;34m=\u001B[0m \u001B[0mnp\u001B[0m\u001B[0;34m.\u001B[0m\u001B[0mstack\u001B[0m\u001B[0;34m(\u001B[0m\u001B[0mboxes\u001B[0m\u001B[0;34m,\u001B[0m \u001B[0maxis\u001B[0m\u001B[0;34m=\u001B[0m\u001B[0;36m0\u001B[0m\u001B[0;34m)\u001B[0m\u001B[0;34m\u001B[0m\u001B[0;34m\u001B[0m\u001B[0m\n\u001B[0m\u001B[1;32m     73\u001B[0m     \u001B[0mheat_map\u001B[0m \u001B[0;34m=\u001B[0m \u001B[0mnp\u001B[0m\u001B[0;34m.\u001B[0m\u001B[0mmean\u001B[0m\u001B[0;34m(\u001B[0m\u001B[0mboxes\u001B[0m\u001B[0;34m,\u001B[0m \u001B[0maxis\u001B[0m\u001B[0;34m=\u001B[0m\u001B[0;36m0\u001B[0m\u001B[0;34m)\u001B[0m\u001B[0;34m\u001B[0m\u001B[0;34m\u001B[0m\u001B[0m\n\u001B[1;32m     74\u001B[0m     \u001B[0;32mif\u001B[0m \u001B[0mshow\u001B[0m\u001B[0;34m:\u001B[0m\u001B[0;34m\u001B[0m\u001B[0;34m\u001B[0m\u001B[0m\n",
      "\u001B[0;32m<__array_function__ internals>\u001B[0m in \u001B[0;36mstack\u001B[0;34m(*args, **kwargs)\u001B[0m\n",
      "\u001B[0;32m~/.conda/envs/aml/lib/python3.9/site-packages/numpy/core/shape_base.py\u001B[0m in \u001B[0;36mstack\u001B[0;34m(arrays, axis, out)\u001B[0m\n\u001B[1;32m    424\u001B[0m     \u001B[0mshapes\u001B[0m \u001B[0;34m=\u001B[0m \u001B[0;34m{\u001B[0m\u001B[0marr\u001B[0m\u001B[0;34m.\u001B[0m\u001B[0mshape\u001B[0m \u001B[0;32mfor\u001B[0m \u001B[0marr\u001B[0m \u001B[0;32min\u001B[0m \u001B[0marrays\u001B[0m\u001B[0;34m}\u001B[0m\u001B[0;34m\u001B[0m\u001B[0;34m\u001B[0m\u001B[0m\n\u001B[1;32m    425\u001B[0m     \u001B[0;32mif\u001B[0m \u001B[0mlen\u001B[0m\u001B[0;34m(\u001B[0m\u001B[0mshapes\u001B[0m\u001B[0;34m)\u001B[0m \u001B[0;34m!=\u001B[0m \u001B[0;36m1\u001B[0m\u001B[0;34m:\u001B[0m\u001B[0;34m\u001B[0m\u001B[0;34m\u001B[0m\u001B[0m\n\u001B[0;32m--> 426\u001B[0;31m         \u001B[0;32mraise\u001B[0m \u001B[0mValueError\u001B[0m\u001B[0;34m(\u001B[0m\u001B[0;34m'all input arrays must have the same shape'\u001B[0m\u001B[0;34m)\u001B[0m\u001B[0;34m\u001B[0m\u001B[0;34m\u001B[0m\u001B[0m\n\u001B[0m\u001B[1;32m    427\u001B[0m \u001B[0;34m\u001B[0m\u001B[0m\n\u001B[1;32m    428\u001B[0m     \u001B[0mresult_ndim\u001B[0m \u001B[0;34m=\u001B[0m \u001B[0marrays\u001B[0m\u001B[0;34m[\u001B[0m\u001B[0;36m0\u001B[0m\u001B[0;34m]\u001B[0m\u001B[0;34m.\u001B[0m\u001B[0mndim\u001B[0m \u001B[0;34m+\u001B[0m \u001B[0;36m1\u001B[0m\u001B[0;34m\u001B[0m\u001B[0;34m\u001B[0m\u001B[0m\n",
      "\u001B[0;31mValueError\u001B[0m: all input arrays must have the same shape"
     ]
    }
   ],
   "source": [
    "from task3.utils.config import get_data_loader, init\n",
    "\n",
    "submission_only = True\n",
    "\n",
    "cfg = init(config='configs/default.yaml')\n",
    "\n",
    "# you'd probably call this in train.py\n",
    "if not submission_only:\n",
    "    training_loader, validation_loader, test_loader = get_data_loader(cfg, mode='train', get_subset=False)\n",
    "submission_loader = get_data_loader(cfg, mode='submission', get_subset=False)"
   ]
  },
  {
   "cell_type": "markdown",
   "metadata": {},
   "source": [
    "## Visualize data"
   ]
  },
  {
   "cell_type": "code",
   "execution_count": null,
   "metadata": {
    "pycharm": {
     "name": "#%%\n"
    }
   },
   "outputs": [],
   "source": [
    "# Get and visualize a batch of training data\n",
    "train_batch = None\n",
    "val_batch = None\n",
    "test_batch = None\n",
    "if not submission_only:\n",
    "    train_batch = next(iter(training_loader))\n",
    "    val_batch = next(iter(validation_loader))\n",
    "    test_batch = next(iter(test_loader))\n",
    "submission_batch = next(iter(submission_loader))\n",
    "\n",
    "batches = {\n",
    "    'train': train_batch,\n",
    "    'val': val_batch,\n",
    "    'test': test_batch,\n",
    "    'submission': submission_batch,\n",
    "}"
   ]
  },
  {
   "cell_type": "code",
   "execution_count": null,
   "outputs": [],
   "source": [
    "reload(sys.modules['task3.utils.img_utils'])\n",
    "from task3.utils.img_utils import show_img_batch\n",
    "\n",
    "for name, batch in batches.items():\n",
    "    if batch is not None:\n",
    "        print('{} batch keys:'.format(name), batch.keys())\n",
    "        show_img_batch(batch)"
   ],
   "metadata": {
    "collapsed": false,
    "pycharm": {
     "name": "#%%\n"
    }
   }
  }
 ],
 "metadata": {
  "kernelspec": {
   "display_name": "Python 3",
   "language": "python",
   "name": "python3"
  },
  "language_info": {
   "codemirror_mode": {
    "name": "ipython",
    "version": 3
   },
   "file_extension": ".py",
   "mimetype": "text/x-python",
   "name": "python",
   "nbconvert_exporter": "python",
   "pygments_lexer": "ipython3",
   "version": "3.8.8"
  }
 },
 "nbformat": 4,
 "nbformat_minor": 1
}